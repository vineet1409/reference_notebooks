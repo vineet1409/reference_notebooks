{
 "cells": [
  {
   "cell_type": "code",
   "execution_count": 2,
   "id": "aa435cc7",
   "metadata": {},
   "outputs": [],
   "source": [
    "def sum_n(n):\n",
    "    summ = 0\n",
    "    for i in range(1,n+1):\n",
    "        summ+=i\n",
    "        \n",
    "    return summ"
   ]
  },
  {
   "cell_type": "code",
   "execution_count": 3,
   "id": "bff198fd",
   "metadata": {},
   "outputs": [
    {
     "name": "stdout",
     "output_type": "stream",
     "text": [
      "55\n"
     ]
    }
   ],
   "source": [
    "k = sum_n(10)\n",
    "print(k)"
   ]
  },
  {
   "cell_type": "code",
   "execution_count": 4,
   "id": "5d745082",
   "metadata": {},
   "outputs": [],
   "source": [
    "def left_rotate(a):\n",
    "    n = len(a)\n",
    "    res = []\n",
    "    start = a[0]\n",
    "    second = a[1]\n",
    "    for i in range(n-2):\n",
    "        res.append(a[i+2])\n",
    "    res.append(start)\n",
    "    res.append(second)\n",
    "    \n",
    "    return res"
   ]
  },
  {
   "cell_type": "code",
   "execution_count": 6,
   "id": "93bfd426",
   "metadata": {},
   "outputs": [],
   "source": [
    "def left_rotate_by_k(k,lst=[1,2,3,4,5,6,7,8,9]):\n",
    "    n = len(lst)\n",
    "    res = []\n",
    "    \n",
    "    for i in range(n-k):\n",
    "        res.append(lst[i+k])\n",
    "    for j in range(k):\n",
    "        res.append(lst[j])\n",
    "        \n",
    "    return res"
   ]
  },
  {
   "cell_type": "code",
   "execution_count": 12,
   "id": "c60a30e4",
   "metadata": {},
   "outputs": [
    {
     "data": {
      "text/plain": [
       "[2, 3, 4, 5, 6, 7, 8, 9, 1]"
      ]
     },
     "execution_count": 12,
     "metadata": {},
     "output_type": "execute_result"
    }
   ],
   "source": [
    "left_rotate_by_k(1)"
   ]
  },
  {
   "cell_type": "code",
   "execution_count": 5,
   "id": "d89897cd",
   "metadata": {},
   "outputs": [
    {
     "name": "stdout",
     "output_type": "stream",
     "text": [
      "[3, 5, 2, 38]\n"
     ]
    }
   ],
   "source": [
    "k = left_rotate([2,38,3,5])\n",
    "print(k)"
   ]
  },
  {
   "cell_type": "code",
   "execution_count": null,
   "id": "c59b4448",
   "metadata": {},
   "outputs": [],
   "source": [
    "def right_rotate(k,lst=[1,2,3,4,5,6,7,8,9]):\n",
    "    "
   ]
  },
  {
   "cell_type": "code",
   "execution_count": 6,
   "id": "733ecf09",
   "metadata": {},
   "outputs": [],
   "source": [
    "def check_if_sorted(a):\n",
    "    for i in range(len(a)):\n",
    "        if a[i]>a[i+1]:\n",
    "            return True\n",
    "    return False\n",
    "        "
   ]
  },
  {
   "cell_type": "code",
   "execution_count": 7,
   "id": "81d90341",
   "metadata": {},
   "outputs": [
    {
     "name": "stdout",
     "output_type": "stream",
     "text": [
      "True\n"
     ]
    }
   ],
   "source": [
    "print(check_if_sorted(k))"
   ]
  },
  {
   "cell_type": "code",
   "execution_count": 8,
   "id": "14864b36",
   "metadata": {},
   "outputs": [
    {
     "name": "stdout",
     "output_type": "stream",
     "text": [
      "True\n"
     ]
    }
   ],
   "source": [
    "k1 = [3,5,2,9,18,2,0,1]\n",
    "print(check_if_sorted(k1))"
   ]
  },
  {
   "cell_type": "code",
   "execution_count": 9,
   "id": "b5f694cd",
   "metadata": {},
   "outputs": [],
   "source": [
    "k1.reverse()"
   ]
  },
  {
   "cell_type": "code",
   "execution_count": 10,
   "id": "034921a4",
   "metadata": {},
   "outputs": [
    {
     "name": "stdout",
     "output_type": "stream",
     "text": [
      "[1, 0, 2, 18, 9, 2, 5, 3]\n"
     ]
    }
   ],
   "source": [
    "print(k1)"
   ]
  },
  {
   "cell_type": "code",
   "execution_count": 13,
   "id": "6635001a",
   "metadata": {},
   "outputs": [],
   "source": [
    "def fun(n):\n",
    "    if n <=0:\n",
    "        return\n",
    "    print('Hello')\n",
    "    fun(n-1)"
   ]
  },
  {
   "cell_type": "code",
   "execution_count": 14,
   "id": "f66c5ce9",
   "metadata": {},
   "outputs": [
    {
     "name": "stdout",
     "output_type": "stream",
     "text": [
      "Hello\n",
      "Hello\n",
      "Hello\n",
      "Hello\n"
     ]
    }
   ],
   "source": [
    "fun(4)"
   ]
  },
  {
   "cell_type": "code",
   "execution_count": 15,
   "id": "cd3d23a1",
   "metadata": {},
   "outputs": [],
   "source": [
    "fun(-1)"
   ]
  },
  {
   "cell_type": "code",
   "execution_count": 14,
   "id": "788920de",
   "metadata": {},
   "outputs": [
    {
     "name": "stdout",
     "output_type": "stream",
     "text": [
      "6\n"
     ]
    }
   ],
   "source": [
    "# Python code to find sum\n",
    "# of natural numbers upto\n",
    "# n using recursion\n",
    "\n",
    "# Returns sum of first\n",
    "# n natural numbers\n",
    "def recurSum(n):\n",
    "    if n ==0:\n",
    "        return 0\n",
    "    if n == 1:\n",
    "        return 1\n",
    "    return n + recurSum(n - 1)\n",
    "\n",
    "# Driver code\n",
    "n = 3\n",
    "print(recurSum(n))\n"
   ]
  },
  {
   "cell_type": "code",
   "execution_count": 6,
   "id": "d8c655e0",
   "metadata": {},
   "outputs": [],
   "source": [
    "def fibbonaci_seq(n):\n",
    "    if n ==0:\n",
    "        return 0\n",
    "    if n == 1:\n",
    "        return 1\n",
    "    return fibbonaci_seq(n-1) + fibbonaci_seq(n-2)\n",
    "    "
   ]
  },
  {
   "cell_type": "code",
   "execution_count": 7,
   "id": "6923f4a8",
   "metadata": {},
   "outputs": [
    {
     "data": {
      "text/plain": [
       "5"
      ]
     },
     "execution_count": 7,
     "metadata": {},
     "output_type": "execute_result"
    }
   ],
   "source": [
    "fibbonaci_seq(5)"
   ]
  },
  {
   "cell_type": "code",
   "execution_count": 24,
   "id": "02b09a94",
   "metadata": {},
   "outputs": [
    {
     "name": "stdout",
     "output_type": "stream",
     "text": [
      "1\n",
      "2\n",
      "3\n",
      "4\n",
      "5\n"
     ]
    }
   ],
   "source": [
    "# print from 1 to n\n",
    "def print_nos(n):\n",
    "    if n == 0:\n",
    "        return\n",
    "    print_nos(n-1)\n",
    "    print(n)\n",
    "    \n",
    "\n",
    "print_nos(5)"
   ]
  },
  {
   "cell_type": "code",
   "execution_count": 25,
   "id": "3bcf245c",
   "metadata": {},
   "outputs": [
    {
     "name": "stdout",
     "output_type": "stream",
     "text": [
      "5\n",
      "4\n",
      "3\n",
      "2\n",
      "1\n"
     ]
    }
   ],
   "source": [
    "# print from n to 1\n",
    "def print_nos(n):\n",
    "    if n == 0:\n",
    "        return\n",
    "    print(n)\n",
    "    print_nos(n-1)\n",
    "    \n",
    "\n",
    "print_nos(5)"
   ]
  },
  {
   "cell_type": "code",
   "execution_count": 1,
   "id": "250c64d2",
   "metadata": {},
   "outputs": [],
   "source": [
    "# sum of digits using recursion\n",
    "def sum_of_digits(num):\n",
    "    if num <10:\n",
    "        return num\n",
    "    return (num%10) + sum_of_digits((num//10))\n",
    "    \n",
    "    "
   ]
  },
  {
   "cell_type": "code",
   "execution_count": 4,
   "id": "98fcc854",
   "metadata": {},
   "outputs": [
    {
     "name": "stdout",
     "output_type": "stream",
     "text": [
      "15\n"
     ]
    }
   ],
   "source": [
    "k = sum_of_digits(384)\n",
    "print(k)"
   ]
  },
  {
   "cell_type": "code",
   "execution_count": 9,
   "id": "46f79d3b",
   "metadata": {},
   "outputs": [
    {
     "data": {
      "text/plain": [
       "True"
      ]
     },
     "execution_count": 9,
     "metadata": {},
     "output_type": "execute_result"
    }
   ],
   "source": [
    "def pallindrome_check(string,start,end):\n",
    "    if start>=end:\n",
    "        return True\n",
    "    \n",
    "    return (string[start] == string[end] and pallindrome_check(string, start+1,end-1))\n",
    "    \n",
    "\n",
    "string_1 = 'abba'   \n",
    "ret = pallindrome_check(string_1,0,len(string_1)-1)\n",
    "ret"
   ]
  },
  {
   "cell_type": "code",
   "execution_count": null,
   "id": "1c89a05d",
   "metadata": {},
   "outputs": [],
   "source": []
  },
  {
   "cell_type": "code",
   "execution_count": 27,
   "id": "7d55d3aa",
   "metadata": {},
   "outputs": [],
   "source": [
    "def binary_search(lst,val):\n",
    "    lst.sort()\n",
    "    low = 0\n",
    "    end = len(l)-1\n",
    "    \n",
    "    \n",
    "    while low<=end:\n",
    "        mid = (low+end)//2\n",
    "        if l[mid] == val:\n",
    "            return mid\n",
    "        elif l[mid]>val:\n",
    "            end = mid -1\n",
    "        else:\n",
    "            low = mid+1\n",
    "            \n",
    "    return -1\n",
    "        \n",
    "        \n",
    "        \n",
    "    "
   ]
  },
  {
   "cell_type": "code",
   "execution_count": null,
   "id": "2dfc4b92",
   "metadata": {},
   "outputs": [],
   "source": [
    "k = binary_search([1,2,9,2,11,3],2)\n",
    "k"
   ]
  },
  {
   "cell_type": "code",
   "execution_count": 1,
   "id": "13fc8838",
   "metadata": {},
   "outputs": [],
   "source": [
    "def binary_search_recursive(l,val,low,end):\n",
    "  if low>=end:\n",
    "    return -1\n",
    "  mid = (low+end)//2\n",
    "\n",
    "  if l[mid] == val:\n",
    "    return mid\n",
    "  elif l[mid] > val:\n",
    "    binary_search_recursive(l,val,low,mid-1)\n",
    "  else:\n",
    "    binary_search_recursive(l,val,mid+1,end)"
   ]
  },
  {
   "cell_type": "markdown",
   "id": "38879d95",
   "metadata": {},
   "source": [
    "### Implementation of chaining in python"
   ]
  },
  {
   "cell_type": "code",
   "execution_count": 7,
   "id": "8accc30e",
   "metadata": {},
   "outputs": [],
   "source": [
    "class MyHash:\n",
    "    def __init__(self,bucket_size):\n",
    "        self.bucket_size = bucket_size\n",
    "        self.table = [[] for x in range(0,self.bucket_size)]\n",
    "        \n",
    "    def search(self,x):\n",
    "        idx = x%self.bucket_size\n",
    "        if x in self.table[idx]:\n",
    "            return True\n",
    "        else:\n",
    "            return False\n",
    "        \n",
    "    def insert(self,x):\n",
    "        idx = x%self.bucket_size\n",
    "        self.table[idx].append(x)\n",
    "        \n",
    "    def remove(self,x):\n",
    "        idx = x%self.bucket_size\n",
    "        if x in self.table[idx]:\n",
    "            self.table[idx].remove(x)\n",
    "        else:\n",
    "            print('element doesnt exist already, hence cannnot be removed')\n",
    "            return -1\n",
    "        \n",
    "        "
   ]
  },
  {
   "cell_type": "code",
   "execution_count": 8,
   "id": "488b2055",
   "metadata": {},
   "outputs": [
    {
     "name": "stdout",
     "output_type": "stream",
     "text": [
      "True\n",
      "False\n",
      "element doesnt exist already, hence cannnot be removed\n"
     ]
    },
    {
     "data": {
      "text/plain": [
       "-1"
      ]
     },
     "execution_count": 8,
     "metadata": {},
     "output_type": "execute_result"
    }
   ],
   "source": [
    "h = MyHash(7)\n",
    "h.insert(70)\n",
    "h.insert(71)\n",
    "h.insert(9)\n",
    "h.insert(56)\n",
    "h.insert(72)\n",
    "print(h.search(56))\n",
    "h.remove(56)\n",
    "print(h.search(56))\n",
    "h.remove(56)"
   ]
  },
  {
   "cell_type": "code",
   "execution_count": 13,
   "id": "c08b3ec5",
   "metadata": {},
   "outputs": [
    {
     "data": {
      "text/plain": [
       "[[1], [4], [9], [16], [25], [36], [49], [64], [81]]"
      ]
     },
     "execution_count": 13,
     "metadata": {},
     "output_type": "execute_result"
    }
   ],
   "source": [
    "lst = [[i*i] for i in range(1,10)]\n",
    "lst"
   ]
  },
  {
   "cell_type": "code",
   "execution_count": 16,
   "id": "4f4d2b52",
   "metadata": {},
   "outputs": [],
   "source": [
    "lst[1].append(95)"
   ]
  },
  {
   "cell_type": "code",
   "execution_count": 18,
   "id": "636d7335",
   "metadata": {},
   "outputs": [],
   "source": [
    "lst[1].append(100)"
   ]
  },
  {
   "cell_type": "code",
   "execution_count": 19,
   "id": "6c4fc87b",
   "metadata": {},
   "outputs": [
    {
     "data": {
      "text/plain": [
       "[[1], [4, 95, 100], [9], [16], [25], [36], [49], [64], [81], [90]]"
      ]
     },
     "execution_count": 19,
     "metadata": {},
     "output_type": "execute_result"
    }
   ],
   "source": [
    "lst"
   ]
  },
  {
   "cell_type": "code",
   "execution_count": 35,
   "id": "63457c70",
   "metadata": {},
   "outputs": [],
   "source": [
    "d = {1:2,3:4}"
   ]
  },
  {
   "cell_type": "code",
   "execution_count": 37,
   "id": "23a1a7e8",
   "metadata": {},
   "outputs": [
    {
     "data": {
      "text/plain": [
       "{1: 2, 3: 4}"
      ]
     },
     "execution_count": 37,
     "metadata": {},
     "output_type": "execute_result"
    }
   ],
   "source": [
    "d"
   ]
  },
  {
   "cell_type": "code",
   "execution_count": 23,
   "id": "14b150ed",
   "metadata": {},
   "outputs": [
    {
     "data": {
      "text/plain": [
       "{1: 2}"
      ]
     },
     "execution_count": 23,
     "metadata": {},
     "output_type": "execute_result"
    }
   ],
   "source": [
    "d"
   ]
  },
  {
   "cell_type": "code",
   "execution_count": 24,
   "id": "283a83dd",
   "metadata": {},
   "outputs": [],
   "source": [
    "del d[1]"
   ]
  },
  {
   "cell_type": "code",
   "execution_count": 25,
   "id": "fb76c6e4",
   "metadata": {},
   "outputs": [
    {
     "data": {
      "text/plain": [
       "{}"
      ]
     },
     "execution_count": 25,
     "metadata": {},
     "output_type": "execute_result"
    }
   ],
   "source": [
    "d"
   ]
  },
  {
   "cell_type": "markdown",
   "id": "b111da17",
   "metadata": {},
   "source": [
    "### count distinct items from list"
   ]
  },
  {
   "cell_type": "code",
   "execution_count": 33,
   "id": "608ebd00",
   "metadata": {},
   "outputs": [],
   "source": [
    "def count_distinct_item(lst):\n",
    "    d = {}\n",
    "    count = 0\n",
    "    for i in lst:\n",
    "        if i not in d:\n",
    "            d[i] = 1\n",
    "            count+=1\n",
    "        else:\n",
    "            pass\n",
    "    return count"
   ]
  },
  {
   "cell_type": "code",
   "execution_count": 34,
   "id": "3a6f0b86",
   "metadata": {},
   "outputs": [
    {
     "data": {
      "text/plain": [
       "3"
      ]
     },
     "execution_count": 34,
     "metadata": {},
     "output_type": "execute_result"
    }
   ],
   "source": [
    "count_distinct_item([10,20,10,30,30,20])"
   ]
  },
  {
   "cell_type": "code",
   "execution_count": 38,
   "id": "35ffc58a",
   "metadata": {},
   "outputs": [
    {
     "data": {
      "text/plain": [
       "3"
      ]
     },
     "execution_count": 38,
     "metadata": {},
     "output_type": "execute_result"
    }
   ],
   "source": [
    "l = [10,20,10,30,30,20]\n",
    "s = set(l)\n",
    "len(s)"
   ]
  },
  {
   "cell_type": "code",
   "execution_count": 40,
   "id": "a4f56c05",
   "metadata": {},
   "outputs": [
    {
     "data": {
      "text/plain": [
       "{10, 20, 30}"
      ]
     },
     "execution_count": 40,
     "metadata": {},
     "output_type": "execute_result"
    }
   ],
   "source": [
    "s"
   ]
  },
  {
   "cell_type": "code",
   "execution_count": 41,
   "id": "11358f2a",
   "metadata": {},
   "outputs": [],
   "source": [
    "s1 = {30,40,50}"
   ]
  },
  {
   "cell_type": "code",
   "execution_count": 46,
   "id": "d2bf65b5",
   "metadata": {},
   "outputs": [
    {
     "data": {
      "text/plain": [
       "{10, 20}"
      ]
     },
     "execution_count": 46,
     "metadata": {},
     "output_type": "execute_result"
    }
   ],
   "source": [
    "s-s1"
   ]
  },
  {
   "cell_type": "code",
   "execution_count": 47,
   "id": "95ebd466",
   "metadata": {},
   "outputs": [
    {
     "data": {
      "text/plain": [
       "False"
      ]
     },
     "execution_count": 47,
     "metadata": {},
     "output_type": "execute_result"
    }
   ],
   "source": [
    "s.isdisjoint(s1)"
   ]
  },
  {
   "cell_type": "code",
   "execution_count": null,
   "id": "6c354063",
   "metadata": {},
   "outputs": [],
   "source": []
  },
  {
   "cell_type": "code",
   "execution_count": null,
   "id": "12f8ac04",
   "metadata": {},
   "outputs": [],
   "source": []
  },
  {
   "cell_type": "code",
   "execution_count": 48,
   "id": "9bb62b6e",
   "metadata": {},
   "outputs": [
    {
     "data": {
      "text/plain": [
       "True"
      ]
     },
     "execution_count": 48,
     "metadata": {},
     "output_type": "execute_result"
    }
   ],
   "source": [
    "s1 = 'geeksforgeeks'\n",
    "s2 = 'ide'\n",
    "s1<s2"
   ]
  },
  {
   "cell_type": "code",
   "execution_count": 49,
   "id": "776f2222",
   "metadata": {},
   "outputs": [
    {
     "data": {
      "text/plain": [
       "103"
      ]
     },
     "execution_count": 49,
     "metadata": {},
     "output_type": "execute_result"
    }
   ],
   "source": [
    "ord(s1[0]) # ascii value"
   ]
  },
  {
   "cell_type": "code",
   "execution_count": 50,
   "id": "cdd32033",
   "metadata": {},
   "outputs": [
    {
     "data": {
      "text/plain": [
       "105"
      ]
     },
     "execution_count": 50,
     "metadata": {},
     "output_type": "execute_result"
    }
   ],
   "source": [
    "ord(s2[0])"
   ]
  },
  {
   "cell_type": "code",
   "execution_count": 51,
   "id": "70b4f7f8",
   "metadata": {},
   "outputs": [
    {
     "data": {
      "text/plain": [
       "False"
      ]
     },
     "execution_count": 51,
     "metadata": {},
     "output_type": "execute_result"
    }
   ],
   "source": [
    "s1 == s2"
   ]
  },
  {
   "cell_type": "code",
   "execution_count": 52,
   "id": "ecbaa285",
   "metadata": {},
   "outputs": [],
   "source": [
    "s2='gde'"
   ]
  },
  {
   "cell_type": "code",
   "execution_count": 53,
   "id": "1ced6e26",
   "metadata": {},
   "outputs": [
    {
     "data": {
      "text/plain": [
       "False"
      ]
     },
     "execution_count": 53,
     "metadata": {},
     "output_type": "execute_result"
    }
   ],
   "source": [
    "s1==s2"
   ]
  },
  {
   "cell_type": "code",
   "execution_count": 54,
   "id": "920dd14f",
   "metadata": {},
   "outputs": [
    {
     "data": {
      "text/plain": [
       "'gde'"
      ]
     },
     "execution_count": 54,
     "metadata": {},
     "output_type": "execute_result"
    }
   ],
   "source": [
    "s2"
   ]
  },
  {
   "cell_type": "code",
   "execution_count": 55,
   "id": "58c75b9b",
   "metadata": {},
   "outputs": [
    {
     "data": {
      "text/plain": [
       "'geeksforgeeks'"
      ]
     },
     "execution_count": 55,
     "metadata": {},
     "output_type": "execute_result"
    }
   ],
   "source": [
    "s1"
   ]
  },
  {
   "cell_type": "code",
   "execution_count": 56,
   "id": "7ceb606d",
   "metadata": {},
   "outputs": [
    {
     "data": {
      "text/plain": [
       "True"
      ]
     },
     "execution_count": 56,
     "metadata": {},
     "output_type": "execute_result"
    }
   ],
   "source": [
    "s2<s1"
   ]
  },
  {
   "cell_type": "code",
   "execution_count": 59,
   "id": "51c3d485",
   "metadata": {},
   "outputs": [
    {
     "data": {
      "text/plain": [
       "100"
      ]
     },
     "execution_count": 59,
     "metadata": {},
     "output_type": "execute_result"
    }
   ],
   "source": [
    "ord(s2[1])"
   ]
  },
  {
   "cell_type": "code",
   "execution_count": null,
   "id": "1a23ce77",
   "metadata": {},
   "outputs": [],
   "source": []
  },
  {
   "cell_type": "code",
   "execution_count": 60,
   "id": "f8acfbfb",
   "metadata": {},
   "outputs": [
    {
     "data": {
      "text/plain": [
       "101"
      ]
     },
     "execution_count": 60,
     "metadata": {},
     "output_type": "execute_result"
    }
   ],
   "source": [
    "ord(s1[1])"
   ]
  },
  {
   "cell_type": "code",
   "execution_count": 87,
   "id": "d1748002",
   "metadata": {},
   "outputs": [],
   "source": [
    "def check_string_rotation(s1,s2):\n",
    "    rev = s2\n",
    "    for i in range(len(s2)):\n",
    "        rev = rev[1:len(s2)]+s2[i]\n",
    "        if rev == s1:\n",
    "            print(rev)\n",
    "            return True\n",
    "        else:\n",
    "            continue\n",
    "            \n",
    "    return False"
   ]
  },
  {
   "cell_type": "code",
   "execution_count": 92,
   "id": "6909049e",
   "metadata": {},
   "outputs": [
    {
     "data": {
      "text/plain": [
       "False"
      ]
     },
     "execution_count": 92,
     "metadata": {},
     "output_type": "execute_result"
    }
   ],
   "source": [
    "s1='hello'\n",
    "s2='world'\n",
    "check_string_rotation(s1,s2)"
   ]
  },
  {
   "cell_type": "code",
   "execution_count": null,
   "id": "33d597dc",
   "metadata": {},
   "outputs": [],
   "source": [
    "# alternative solution\n",
    "\n",
    "def is_rotated(s1: str, s2: str) -> bool:\n",
    "    # Check if the two strings have the same length\n",
    "    if len(s1) != len(s2):\n",
    "        return False\n",
    "    \n",
    "    # Concatenate the string with itself to create a new string\n",
    "    s1s1 = s1 + s1\n",
    "    # Check if the second string is a substring of the concatenated string\n",
    "    return s2 in s1s1\n",
    "\n",
    "# Example usage\n",
    "print(is_rotated(\"waterbottle\", \"erbottlewat\"))  # True\n",
    "print(is_rotated(\"hello\", \"world\"))  # False\n"
   ]
  },
  {
   "cell_type": "markdown",
   "id": "d0aee190",
   "metadata": {},
   "source": [
    "### check for palindrome"
   ]
  },
  {
   "cell_type": "code",
   "execution_count": 100,
   "id": "b4a966cd",
   "metadata": {},
   "outputs": [
    {
     "name": "stdout",
     "output_type": "stream",
     "text": [
      "False\n"
     ]
    }
   ],
   "source": [
    "s1 = 'geeks'\n",
    "if s1 == s1[::-1]:\n",
    "    print('True')\n",
    "else:\n",
    "    print('False')"
   ]
  },
  {
   "cell_type": "code",
   "execution_count": 99,
   "id": "97a3d8ca",
   "metadata": {},
   "outputs": [],
   "source": [
    "# alternative approach\n",
    "def check_pallindrome(strng):\n",
    "    start = 0\n",
    "    last = len(strng)-1\n",
    "    flag = True\n",
    "    \n",
    "    for i in range(len(strng)):\n",
    "        start = i\n",
    "        last = len(strng)-1-i\n",
    "        if start>=last:\n",
    "            break\n",
    "        if strng[start] !=strng[last]:\n",
    "            flag = False\n",
    "            continue\n",
    "            \n",
    "    return flag\n",
    "            "
   ]
  },
  {
   "cell_type": "code",
   "execution_count": 106,
   "id": "21e87761",
   "metadata": {},
   "outputs": [
    {
     "name": "stdout",
     "output_type": "stream",
     "text": [
      "False\n"
     ]
    }
   ],
   "source": [
    "print(check_pallindrome('abck21922cba'))"
   ]
  },
  {
   "cell_type": "markdown",
   "id": "3ae94bed",
   "metadata": {},
   "source": [
    "### check subsequence in a string"
   ]
  },
  {
   "cell_type": "code",
   "execution_count": 32,
   "id": "174608e2",
   "metadata": {},
   "outputs": [
    {
     "name": "stdout",
     "output_type": "stream",
     "text": [
      "(0, 1)\n",
      "(3, 2)\n",
      "(5, 3)\n",
      "True\n"
     ]
    }
   ],
   "source": [
    "# Check if a String is Subsequence of Other\n",
    "\n",
    "def issubseq(s1,s2) :\n",
    "    i, j = 0, 0\n",
    "    while(i < len(s1) and j < len(s2)) :\n",
    "        if s1[i] == s2[j] :\n",
    "            j = j + 1 \n",
    "            print((i,j))\n",
    "        i += 1 \n",
    "    if j == len(s2) :\n",
    "        return True\n",
    "    else :\n",
    "        return False\n",
    "        \n",
    "s1 = \"ABCDEF\"\n",
    "s2 = \"ADF\"\n",
    "\n",
    "print(issubseq(s1,s2))"
   ]
  },
  {
   "cell_type": "code",
   "execution_count": 56,
   "id": "ddd24585",
   "metadata": {},
   "outputs": [
    {
     "name": "stdout",
     "output_type": "stream",
     "text": [
      "True\n"
     ]
    }
   ],
   "source": [
    "s1= \"listen\"\n",
    "s2= \"silent\"\n",
    "\n",
    "def areAnagram(s1,s2):\n",
    "    if len(s1) != len(s2):\n",
    "        return False\n",
    "    count=[0]*1000\n",
    "    for i in range(len(s1)):\n",
    "        count[ord(s1[i])]+=1\n",
    "        count[ord(s2[i])]-=1\n",
    "    for x in count:\n",
    "        if x!=0:\n",
    "            return False\n",
    "    return True\n",
    "    \n",
    "    \n",
    "    \n",
    "print(areAnagram(s1,s2))"
   ]
  },
  {
   "cell_type": "markdown",
   "id": "8efc65af",
   "metadata": {},
   "source": [
    "### revese the word of a given string"
   ]
  },
  {
   "cell_type": "code",
   "execution_count": 64,
   "id": "e113a21b",
   "metadata": {},
   "outputs": [],
   "source": [
    "def reverse_words(string = 'My name is Vineet Srivastava'):\n",
    "    string_lst = string.split(' ')\n",
    "    n = len(string_lst)\n",
    "    rev_str = ''\n",
    "    \n",
    "    for idx in range(n):\n",
    "        rev_str = rev_str+' '+str(string_lst[n-1-idx])\n",
    "    print(rev_str)"
   ]
  },
  {
   "cell_type": "code",
   "execution_count": 65,
   "id": "340db9a3",
   "metadata": {},
   "outputs": [
    {
     "name": "stdout",
     "output_type": "stream",
     "text": [
      " Srivastava Vineet is name My\n"
     ]
    }
   ],
   "source": [
    "reverse_words()"
   ]
  },
  {
   "cell_type": "code",
   "execution_count": 72,
   "id": "9245207a",
   "metadata": {},
   "outputs": [],
   "source": [
    "def check_left_most_repeating_character(s = 'geeksforgeeks'):\n",
    "    d = {}\n",
    "    n = len(s)\n",
    "    \n",
    "    for i in range(n):\n",
    "        if ord(s[i])not in d:\n",
    "            d[ord(s[i])] = 1\n",
    "        else:\n",
    "            d[ord(s[i])]+=1\n",
    "            print(s[i],ord(s[i]))\n",
    "    print(d)    "
   ]
  },
  {
   "cell_type": "code",
   "execution_count": 73,
   "id": "7a5ee4e0",
   "metadata": {},
   "outputs": [
    {
     "name": "stdout",
     "output_type": "stream",
     "text": [
      "e 101\n",
      "g 103\n",
      "e 101\n",
      "e 101\n",
      "k 107\n",
      "s 115\n",
      "{103: 2, 101: 4, 107: 2, 115: 2, 102: 1, 111: 1, 114: 1}\n"
     ]
    }
   ],
   "source": [
    "check_left_most_repeating_character()\n"
   ]
  },
  {
   "cell_type": "markdown",
   "id": "067baceb",
   "metadata": {},
   "source": [
    "### Linked lists"
   ]
  },
  {
   "cell_type": "code",
   "execution_count": 25,
   "id": "5411241c",
   "metadata": {},
   "outputs": [],
   "source": [
    "class Node:\n",
    "    def __init__(self,data):\n",
    "        self.data = data\n",
    "        self.next = None\n",
    "        \n",
    "    def printlist(head):\n",
    "        curr = head\n",
    "        while curr!= None:\n",
    "            print(curr.data,end = \" \")\n",
    "            curr = curr.next\n",
    "            \n",
    "    def search(head,val):\n",
    "        curr = head\n",
    "        count = 0\n",
    "        while curr!= None:\n",
    "            count+=1\n",
    "            if curr.data == val:\n",
    "                return count\n",
    "            else:\n",
    "                curr = curr.next \n",
    "        return -1\n",
    "    \n",
    "    def insertBegin(head,val):\n",
    "        curr = head\n",
    "        curr.data = val\n",
    "        curr.next = head\n",
    "        return curr"
   ]
  },
  {
   "cell_type": "code",
   "execution_count": 13,
   "id": "29dfe322",
   "metadata": {},
   "outputs": [
    {
     "name": "stdout",
     "output_type": "stream",
     "text": [
      "10 20 30 40 "
     ]
    }
   ],
   "source": [
    "head = Node(10)\n",
    "head.next = Node(20)\n",
    "head.next.next = Node(30)\n",
    "head.next.next.next = Node(40)\n",
    "head.printlist()"
   ]
  },
  {
   "cell_type": "code",
   "execution_count": 24,
   "id": "e95749bd",
   "metadata": {},
   "outputs": [
    {
     "name": "stdout",
     "output_type": "stream",
     "text": [
      "3\n"
     ]
    }
   ],
   "source": [
    "head = Node(10)\n",
    "head.next = Node(15)\n",
    "head.next.next = Node(20)\n",
    "head.next.next.next = Node(25)\n",
    "x = 20\n",
    "ret = head.search(x)\n",
    "print(ret)"
   ]
  },
  {
   "cell_type": "code",
   "execution_count": 31,
   "id": "21b2c5b8",
   "metadata": {},
   "outputs": [
    {
     "name": "stdout",
     "output_type": "stream",
     "text": [
      "30 20 10 "
     ]
    }
   ],
   "source": [
    "class Node:\n",
    "    def __init__(self,key):\n",
    "        self.key=key\n",
    "        self.next=None\n",
    "\n",
    "def insertBegin(head,key):\n",
    "        temp=Node(key)\n",
    "        temp.next=head\n",
    "        return temp\n",
    "    \n",
    "    \n",
    "\n",
    "\n",
    "head=None\n",
    "head=insertBegin(head,10)\n",
    "head=insertBegin(head,20)\n",
    "head=insertBegin(head,30)\n",
    "\n",
    "def printList(head):\n",
    "    curr = head\n",
    "    while curr!= None:\n",
    "        print(curr.key, end=\" \")\n",
    "        curr = curr.next\n",
    "\n",
    "\n",
    "printList(head)\n"
   ]
  },
  {
   "cell_type": "code",
   "execution_count": 33,
   "id": "251e366e",
   "metadata": {},
   "outputs": [
    {
     "name": "stdout",
     "output_type": "stream",
     "text": [
      "10 "
     ]
    }
   ],
   "source": [
    "class Node:\n",
    "    def __init__(self,key):\n",
    "        self.key=key\n",
    "        self.next=None\n",
    "\n",
    "def insertEnd(head,key):\n",
    "    if head==None:\n",
    "        return Node(key)\n",
    "    curr = Node(key)\n",
    "    curr.next = head\n",
    "    while curr.next!=None:\n",
    "        curr=curr.next\n",
    "        \n",
    "    return head\n",
    "\n",
    "head=None\n",
    "head=insertEnd(head,10)\n",
    "head=insertEnd(head,20)\n",
    "head=insertEnd(head,30)\n",
    "\n",
    "\n",
    "def printList(head):\n",
    "    curr = head\n",
    "    while curr!= None:\n",
    "        print(curr.key, end=\" \")\n",
    "        curr = curr.next\n",
    "\n",
    "printList(head)\n"
   ]
  },
  {
   "cell_type": "code",
   "execution_count": null,
   "id": "6f512800",
   "metadata": {},
   "outputs": [],
   "source": []
  },
  {
   "cell_type": "code",
   "execution_count": null,
   "id": "4a4845f2",
   "metadata": {},
   "outputs": [],
   "source": [
    "def insert_at_pos(head,val,pos):\n",
    "    curr = Node(val)\n",
    "    idx = 1\n",
    "    while idx!=pos:\n",
    "        head = head.next\n",
    "        idx+=1\n",
    "    curr.data = val\n",
    "    curr.next = head.next\n",
    "    return curr"
   ]
  },
  {
   "cell_type": "code",
   "execution_count": null,
   "id": "b8d797b1",
   "metadata": {},
   "outputs": [],
   "source": []
  },
  {
   "cell_type": "code",
   "execution_count": null,
   "id": "f29cb0dc",
   "metadata": {},
   "outputs": [],
   "source": []
  },
  {
   "cell_type": "code",
   "execution_count": 61,
   "id": "895323c2",
   "metadata": {},
   "outputs": [],
   "source": [
    "class SinglyLinkedListNode:\n",
    "    def __init__(self, node_data):\n",
    "        self.data = node_data\n",
    "        self.next = None"
   ]
  },
  {
   "cell_type": "code",
   "execution_count": 62,
   "id": "793eb4dd",
   "metadata": {},
   "outputs": [],
   "source": [
    "def printlist(head):\n",
    "    curr = head\n",
    "    while curr!= None:\n",
    "        print(curr.data,end = \" \")\n",
    "        curr = curr.next"
   ]
  },
  {
   "cell_type": "code",
   "execution_count": 63,
   "id": "461fb83e",
   "metadata": {},
   "outputs": [],
   "source": [
    "def insertNodeAtPosition(head, data, position):\n",
    "    # create a new node\n",
    "    new = SinglyLinkedListNode(data)\n",
    "    # set a pointer to head in case our initial position is not 0\n",
    "    pointer = head\n",
    "    # set our counter so we can traverse through SLL\n",
    "    counter = 1\n",
    "    # if our given position is 0\n",
    "    if position == 0:\n",
    "        # our new node will point to the head\n",
    "        new.next = head\n",
    "        # now head will point to the new node\n",
    "        head = new\n",
    "        # we then return head as requested\n",
    "        return head\n",
    "    # while the next node away from the head node is not None\n",
    "    while pointer.next is not None:\n",
    "        # and if our counter is equal to the position given\n",
    "        if counter == position:\n",
    "            # our new node will point to pointer.next\n",
    "            new.next = pointer.next\n",
    "            # and our pointer.next will be equal to our new node\n",
    "            pointer.next = new\n",
    "            break\n",
    "        # we traverse the list one position at a time until counter \n",
    "        # == position\n",
    "        counter += 1\n",
    "        pointer = pointer.next\n",
    "    # we return the head as requested\n",
    "    return head"
   ]
  },
  {
   "cell_type": "code",
   "execution_count": 69,
   "id": "2947b755",
   "metadata": {},
   "outputs": [
    {
     "name": "stdout",
     "output_type": "stream",
     "text": [
      "10 20 89 30 40 "
     ]
    }
   ],
   "source": [
    "head = SinglyLinkedListNode(10)\n",
    "head.next = SinglyLinkedListNode(20)\n",
    "head.next.next = SinglyLinkedListNode(30)\n",
    "head.next.next.next = SinglyLinkedListNode(40)\n",
    "head = insertNodeAtPosition(head, 89, 2)\n",
    "printlist(head)\n"
   ]
  },
  {
   "cell_type": "code",
   "execution_count": 65,
   "id": "9df1d8be",
   "metadata": {},
   "outputs": [],
   "source": [
    "def delete_first(head):\n",
    "    if head == None:\n",
    "        return None\n",
    "    else:\n",
    "        return head.next"
   ]
  },
  {
   "cell_type": "code",
   "execution_count": 73,
   "id": "dbf94dec",
   "metadata": {},
   "outputs": [],
   "source": [
    "def delete_last(head):\n",
    "    curr = head.next\n",
    "    prev = None\n",
    "    while curr.next!=None:\n",
    "        curr = curr.next\n",
    "        prev = curr\n",
    "    prev.next = None    \n",
    "    return head"
   ]
  },
  {
   "cell_type": "code",
   "execution_count": 67,
   "id": "24ce635f",
   "metadata": {},
   "outputs": [
    {
     "name": "stdout",
     "output_type": "stream",
     "text": [
      "20 89 30 40 "
     ]
    }
   ],
   "source": [
    "head = delete_first(head)\n",
    "printlist(head)"
   ]
  },
  {
   "cell_type": "code",
   "execution_count": 74,
   "id": "0d950e17",
   "metadata": {},
   "outputs": [
    {
     "name": "stdout",
     "output_type": "stream",
     "text": [
      "10 20 89 30 40 "
     ]
    }
   ],
   "source": [
    "head = delete_last(head)\n",
    "printlist(head)"
   ]
  },
  {
   "cell_type": "code",
   "execution_count": null,
   "id": "28e7d73a",
   "metadata": {},
   "outputs": [],
   "source": [
    "class node:\n",
    "    def __init__(self,data):\n",
    "        self.data = data\n",
    "        self.next = None\n",
    "                \n",
    "class myStack:\n",
    "    def __init__(self,head):\n",
    "        self.head = head\n",
    "    \n",
    "    def pop(self):\n",
    "        if self.head == None:\n",
    "            return -1\n",
    "        self.head = self.head.next\n",
    "        self.head.next = None\n",
    "        return self.head.data\n",
    "    \n",
    "    def push(self,val):\n",
    "        temp = node(val)\n",
    "             "
   ]
  },
  {
   "cell_type": "markdown",
   "id": "bea21e81",
   "metadata": {},
   "source": [
    "### Check if paranthesis are balanced or not"
   ]
  },
  {
   "cell_type": "code",
   "execution_count": null,
   "id": "a7325de8",
   "metadata": {},
   "outputs": [],
   "source": []
  },
  {
   "cell_type": "code",
   "execution_count": 85,
   "id": "7b0138ab",
   "metadata": {},
   "outputs": [
    {
     "name": "stdout",
     "output_type": "stream",
     "text": [
      "[[[[[{{))}}}}}\n",
      "False\n",
      "{{[]{{(())}}}} \n",
      "False\n"
     ]
    }
   ],
   "source": [
    "def isMatching(a, b):\n",
    "    if (a == '(' and b == ')') or \\\n",
    "            (a == '{' and b == '}') or \\\n",
    "            (a == '[' and b == ']'):\n",
    "        return True\n",
    "    else:\n",
    "        return False\n",
    "\n",
    "\n",
    "def isBalanced(exper):\n",
    "    stack = []\n",
    "    for x in exper:\n",
    "        if x in ('(', '{', '['):\n",
    "            stack.append(x)\n",
    "        else:\n",
    "            if not stack:\n",
    "                return False\n",
    "            elif isMatching(stack[-1], x) == False:\n",
    "                return False\n",
    "            else:\n",
    "                stack.pop()\n",
    "    if stack:\n",
    "        return False\n",
    "    else:\n",
    "        return True\n",
    "\n",
    "\n",
    "a = input()\n",
    "\n",
    "print(isBalanced(a))\n",
    "\n",
    "a = input()\n",
    "\n",
    "print(isBalanced(a))\n"
   ]
  },
  {
   "cell_type": "markdown",
   "id": "7a96289a",
   "metadata": {},
   "source": [
    "### Binary Tree Traversal"
   ]
  },
  {
   "cell_type": "code",
   "execution_count": 41,
   "id": "3432ccf7",
   "metadata": {},
   "outputs": [],
   "source": [
    "class Node:\n",
    "    def __init__(self, k):\n",
    "        self.left = None\n",
    "        self.right = None\n",
    "        self.key = k\n",
    "\n",
    "\n",
    "def inorder(root):\n",
    "    if root != None:\n",
    "        inorder(root.left)\n",
    "        print(root.key)\n",
    "        inorder(root.right)\n",
    "\n",
    "def preorder(root):\n",
    "    if root != None:\n",
    "        print(root.key)\n",
    "        preorder(root.right)\n",
    "        preorder(root.left)\n",
    "        \n",
    "def postorder(root):\n",
    "    if root != None:\n",
    "        postorder(root.left)\n",
    "        postorder(root.right)\n",
    "        print(root.key)\n",
    "        \n",
    "def max_height(root):\n",
    "    if root==None:\n",
    "        return 0\n",
    "    else:\n",
    "        right_tree= max_height(root.right)\n",
    "        left_tree = max_height(root.left)\n",
    "        return (max(right_tree,left_tree)+1)\n",
    "    \n",
    "def sizeTree(root):\n",
    "    if root==None:\n",
    "        return 0\n",
    "    else:\n",
    "        right_tree= sizeTree(root.right)\n",
    "        left_tree = sizeTree(root.left)\n",
    "        return (right_tree+left_tree+1)\n",
    "        \n",
    "        \n",
    "        \n",
    "# Driver Code\n",
    "root = Node(10)\n",
    "root.left = Node(20)\n",
    "root.right = Node(30)\n",
    "root.right.left = Node(40)\n",
    "root.right.right = Node(50)"
   ]
  },
  {
   "cell_type": "code",
   "execution_count": 21,
   "id": "d2b1dc99",
   "metadata": {},
   "outputs": [
    {
     "name": "stdout",
     "output_type": "stream",
     "text": [
      "20\n",
      "10\n",
      "40\n",
      "30\n",
      "50\n"
     ]
    }
   ],
   "source": [
    "inorder(root)"
   ]
  },
  {
   "cell_type": "code",
   "execution_count": 40,
   "id": "3deb3219",
   "metadata": {},
   "outputs": [
    {
     "name": "stdout",
     "output_type": "stream",
     "text": [
      "10\n",
      "30\n",
      "50\n",
      "40\n",
      "20\n"
     ]
    }
   ],
   "source": [
    "preorder(root)"
   ]
  },
  {
   "cell_type": "code",
   "execution_count": 23,
   "id": "4ea1dc4e",
   "metadata": {},
   "outputs": [
    {
     "name": "stdout",
     "output_type": "stream",
     "text": [
      "20\n",
      "40\n",
      "50\n",
      "30\n",
      "10\n"
     ]
    }
   ],
   "source": [
    "postorder(root)"
   ]
  },
  {
   "cell_type": "code",
   "execution_count": 26,
   "id": "f684a039",
   "metadata": {},
   "outputs": [
    {
     "name": "stdout",
     "output_type": "stream",
     "text": [
      "3\n"
     ]
    }
   ],
   "source": [
    "print(max_height(root))"
   ]
  },
  {
   "cell_type": "code",
   "execution_count": 42,
   "id": "84904b36",
   "metadata": {},
   "outputs": [
    {
     "name": "stdout",
     "output_type": "stream",
     "text": [
      "5\n"
     ]
    }
   ],
   "source": [
    "print(sizeTree(root))"
   ]
  },
  {
   "cell_type": "code",
   "execution_count": 27,
   "id": "1fa574d2",
   "metadata": {},
   "outputs": [
    {
     "data": {
      "text/html": [
       "<div>\n",
       "<style scoped>\n",
       "    .dataframe tbody tr th:only-of-type {\n",
       "        vertical-align: middle;\n",
       "    }\n",
       "\n",
       "    .dataframe tbody tr th {\n",
       "        vertical-align: top;\n",
       "    }\n",
       "\n",
       "    .dataframe thead th {\n",
       "        text-align: right;\n",
       "    }\n",
       "</style>\n",
       "<table border=\"1\" class=\"dataframe\">\n",
       "  <thead>\n",
       "    <tr style=\"text-align: right;\">\n",
       "      <th></th>\n",
       "      <th>Price</th>\n",
       "    </tr>\n",
       "  </thead>\n",
       "  <tbody>\n",
       "    <tr>\n",
       "      <th>0</th>\n",
       "      <td>1</td>\n",
       "    </tr>\n",
       "    <tr>\n",
       "      <th>1</th>\n",
       "      <td>2</td>\n",
       "    </tr>\n",
       "    <tr>\n",
       "      <th>2</th>\n",
       "      <td>3</td>\n",
       "    </tr>\n",
       "    <tr>\n",
       "      <th>3</th>\n",
       "      <td>4</td>\n",
       "    </tr>\n",
       "    <tr>\n",
       "      <th>4</th>\n",
       "      <td>5</td>\n",
       "    </tr>\n",
       "    <tr>\n",
       "      <th>5</th>\n",
       "      <td>6</td>\n",
       "    </tr>\n",
       "  </tbody>\n",
       "</table>\n",
       "</div>"
      ],
      "text/plain": [
       "   Price\n",
       "0      1\n",
       "1      2\n",
       "2      3\n",
       "3      4\n",
       "4      5\n",
       "5      6"
      ]
     },
     "execution_count": 27,
     "metadata": {},
     "output_type": "execute_result"
    }
   ],
   "source": [
    "import pandas as pd \n",
    "\n",
    "d = {'Price': [1,2,3,4,5,6]}\n",
    "\n",
    "df = pd.DataFrame(d)\n",
    "\n",
    "df"
   ]
  },
  {
   "cell_type": "code",
   "execution_count": 28,
   "id": "ff10fbe3",
   "metadata": {},
   "outputs": [],
   "source": [
    "min = round((df['Price'].min()),2)\n",
    "max = round((df['Price'].max()),2)\n",
    "mean = round((df['Price'].mean()),3)\n",
    "std = round((df['Price'].std()),4)"
   ]
  },
  {
   "cell_type": "code",
   "execution_count": 29,
   "id": "4a89c062",
   "metadata": {},
   "outputs": [
    {
     "data": {
      "text/plain": [
       "1"
      ]
     },
     "execution_count": 29,
     "metadata": {},
     "output_type": "execute_result"
    }
   ],
   "source": [
    "min"
   ]
  },
  {
   "cell_type": "code",
   "execution_count": 30,
   "id": "f943379d",
   "metadata": {},
   "outputs": [
    {
     "data": {
      "text/plain": [
       "6"
      ]
     },
     "execution_count": 30,
     "metadata": {},
     "output_type": "execute_result"
    }
   ],
   "source": [
    "max"
   ]
  },
  {
   "cell_type": "code",
   "execution_count": 31,
   "id": "99388f68",
   "metadata": {},
   "outputs": [
    {
     "data": {
      "text/plain": [
       "3.5"
      ]
     },
     "execution_count": 31,
     "metadata": {},
     "output_type": "execute_result"
    }
   ],
   "source": [
    "mean"
   ]
  },
  {
   "cell_type": "code",
   "execution_count": 32,
   "id": "1785822e",
   "metadata": {},
   "outputs": [
    {
     "data": {
      "text/plain": [
       "1.8708"
      ]
     },
     "execution_count": 32,
     "metadata": {},
     "output_type": "execute_result"
    }
   ],
   "source": [
    "std"
   ]
  },
  {
   "cell_type": "code",
   "execution_count": null,
   "id": "73579eef",
   "metadata": {},
   "outputs": [],
   "source": [
    "def bst(root,val):\n",
    "    if root == None:\n",
    "        return -1\n",
    "    if root.key == val:\n",
    "        return True\n",
    "    if val < root.key:\n",
    "        bst(root.left,val)\n",
    "    elif val > root.key:\n",
    "        bst(root.right, val)\n",
    "    else:\n",
    "        return False"
   ]
  },
  {
   "cell_type": "markdown",
   "id": "3799bac5",
   "metadata": {},
   "source": [
    "## Graph Adjaceny List Representation"
   ]
  },
  {
   "cell_type": "code",
   "execution_count": 18,
   "id": "68406d65",
   "metadata": {},
   "outputs": [
    {
     "name": "stdout",
     "output_type": "stream",
     "text": [
      "[[1, 2], [0, 2, 3], [0, 1], [1]]\n"
     ]
    }
   ],
   "source": [
    "def add_edge(lst,u,v):\n",
    "    lst[u].append(v)\n",
    "    lst[v].append(u)\n",
    "        \n",
    "\n",
    "\n",
    "lst = [[] for x in range(4)]\n",
    "\n",
    "add_edge(lst,0,1)\n",
    "add_edge(lst,0,2)\n",
    "add_edge(lst,1,2)\n",
    "add_edge(lst,1,3)\n",
    "\n",
    "print(lst)\n",
    "    "
   ]
  },
  {
   "cell_type": "markdown",
   "id": "1e4953ed",
   "metadata": {},
   "source": [
    "##### Breadth First Search- Undirected Graph"
   ]
  },
  {
   "cell_type": "code",
   "execution_count": 19,
   "id": "2fd9824b",
   "metadata": {},
   "outputs": [
    {
     "data": {
      "text/plain": [
       "[[1, 2], [0, 2, 3], [0, 1], [1]]"
      ]
     },
     "execution_count": 19,
     "metadata": {},
     "output_type": "execute_result"
    }
   ],
   "source": [
    "lst"
   ]
  },
  {
   "cell_type": "code",
   "execution_count": 25,
   "id": "e55b5a40",
   "metadata": {},
   "outputs": [
    {
     "name": "stdout",
     "output_type": "stream",
     "text": [
      "0 1 2 3 4 "
     ]
    }
   ],
   "source": [
    "from collections import deque\n",
    "\n",
    "\n",
    "def BFS(lst,s=0): # source is 0th vertex\n",
    "    q = deque()\n",
    "    visited = [False]*len(lst)\n",
    "    \n",
    "    q.append(s)\n",
    "    visited[s] = True\n",
    "    \n",
    "    while q:\n",
    "        print_vertex = q.popleft()\n",
    "        print(print_vertex, end = ' ')\n",
    "        \n",
    "        for ele in lst[print_vertex]:\n",
    "            if visited[ele] == False:\n",
    "                q.append(ele)\n",
    "                visited[ele] = True\n",
    "                \n",
    "            \n",
    "    \n",
    "BFS(lst=[[1, 2], [0, 2, 3], [0, 1, 3, 4], [1, 2, 4], [2, 3]]) \n",
    "    "
   ]
  },
  {
   "cell_type": "code",
   "execution_count": null,
   "id": "6dc9f61f",
   "metadata": {},
   "outputs": [],
   "source": []
  }
 ],
 "metadata": {
  "kernelspec": {
   "display_name": "Python 3 (ipykernel)",
   "language": "python",
   "name": "python3"
  },
  "language_info": {
   "codemirror_mode": {
    "name": "ipython",
    "version": 3
   },
   "file_extension": ".py",
   "mimetype": "text/x-python",
   "name": "python",
   "nbconvert_exporter": "python",
   "pygments_lexer": "ipython3",
   "version": "3.9.12"
  }
 },
 "nbformat": 4,
 "nbformat_minor": 5
}
