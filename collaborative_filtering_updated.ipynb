{
  "nbformat": 4,
  "nbformat_minor": 0,
  "metadata": {
    "colab": {
      "provenance": []
    },
    "kernelspec": {
      "name": "python3",
      "display_name": "Python 3"
    },
    "language_info": {
      "name": "python"
    }
  },
  "cells": [
    {
      "cell_type": "code",
      "execution_count": 1,
      "metadata": {
        "id": "XV6CZVWGep25"
      },
      "outputs": [],
      "source": [
        "import numpy as np\n",
        "import pandas as pd\n",
        "from sklearn.model_selection import train_test_split\n",
        "from sklearn.metrics import mean_squared_error, mean_absolute_error\n",
        "from scipy.sparse.linalg import svds\n",
        "import tensorflow as tf\n",
        "from tensorflow.keras.models import Model\n",
        "from tensorflow.keras.layers import Input, Embedding, Flatten, Dense, Concatenate"
      ]
    },
    {
      "cell_type": "code",
      "source": [
        "df = pd.read_csv('/content/rating.csv')\n",
        "df.head()"
      ],
      "metadata": {
        "colab": {
          "base_uri": "https://localhost:8080/",
          "height": 241
        },
        "id": "tKY8LDgR5ivK",
        "outputId": "c5a2202c-7836-4407-ee44-e55322096f6f"
      },
      "execution_count": 2,
      "outputs": [
        {
          "output_type": "stream",
          "name": "stderr",
          "text": [
            "<ipython-input-2-d932dbc08167>:1: DtypeWarning: Columns (3) have mixed types. Specify dtype option on import or set low_memory=False.\n",
            "  df = pd.read_csv('/content/rating.csv')\n"
          ]
        },
        {
          "output_type": "execute_result",
          "data": {
            "text/plain": [
              "   userId  movieId  rating         timestamp\n",
              "0     1.0      2.0     3.5  02-04-2005 23:53\n",
              "1     1.0     29.0     3.5  02-04-2005 23:31\n",
              "2     1.0     32.0     3.5  02-04-2005 23:33\n",
              "3     1.0     47.0     3.5  02-04-2005 23:32\n",
              "4     1.0     50.0     3.5  02-04-2005 23:29"
            ],
            "text/html": [
              "\n",
              "  <div id=\"df-3f6bb9ad-44b0-4e06-abea-0ed7869d4837\" class=\"colab-df-container\">\n",
              "    <div>\n",
              "<style scoped>\n",
              "    .dataframe tbody tr th:only-of-type {\n",
              "        vertical-align: middle;\n",
              "    }\n",
              "\n",
              "    .dataframe tbody tr th {\n",
              "        vertical-align: top;\n",
              "    }\n",
              "\n",
              "    .dataframe thead th {\n",
              "        text-align: right;\n",
              "    }\n",
              "</style>\n",
              "<table border=\"1\" class=\"dataframe\">\n",
              "  <thead>\n",
              "    <tr style=\"text-align: right;\">\n",
              "      <th></th>\n",
              "      <th>userId</th>\n",
              "      <th>movieId</th>\n",
              "      <th>rating</th>\n",
              "      <th>timestamp</th>\n",
              "    </tr>\n",
              "  </thead>\n",
              "  <tbody>\n",
              "    <tr>\n",
              "      <th>0</th>\n",
              "      <td>1.0</td>\n",
              "      <td>2.0</td>\n",
              "      <td>3.5</td>\n",
              "      <td>02-04-2005 23:53</td>\n",
              "    </tr>\n",
              "    <tr>\n",
              "      <th>1</th>\n",
              "      <td>1.0</td>\n",
              "      <td>29.0</td>\n",
              "      <td>3.5</td>\n",
              "      <td>02-04-2005 23:31</td>\n",
              "    </tr>\n",
              "    <tr>\n",
              "      <th>2</th>\n",
              "      <td>1.0</td>\n",
              "      <td>32.0</td>\n",
              "      <td>3.5</td>\n",
              "      <td>02-04-2005 23:33</td>\n",
              "    </tr>\n",
              "    <tr>\n",
              "      <th>3</th>\n",
              "      <td>1.0</td>\n",
              "      <td>47.0</td>\n",
              "      <td>3.5</td>\n",
              "      <td>02-04-2005 23:32</td>\n",
              "    </tr>\n",
              "    <tr>\n",
              "      <th>4</th>\n",
              "      <td>1.0</td>\n",
              "      <td>50.0</td>\n",
              "      <td>3.5</td>\n",
              "      <td>02-04-2005 23:29</td>\n",
              "    </tr>\n",
              "  </tbody>\n",
              "</table>\n",
              "</div>\n",
              "    <div class=\"colab-df-buttons\">\n",
              "\n",
              "  <div class=\"colab-df-container\">\n",
              "    <button class=\"colab-df-convert\" onclick=\"convertToInteractive('df-3f6bb9ad-44b0-4e06-abea-0ed7869d4837')\"\n",
              "            title=\"Convert this dataframe to an interactive table.\"\n",
              "            style=\"display:none;\">\n",
              "\n",
              "  <svg xmlns=\"http://www.w3.org/2000/svg\" height=\"24px\" viewBox=\"0 -960 960 960\">\n",
              "    <path d=\"M120-120v-720h720v720H120Zm60-500h600v-160H180v160Zm220 220h160v-160H400v160Zm0 220h160v-160H400v160ZM180-400h160v-160H180v160Zm440 0h160v-160H620v160ZM180-180h160v-160H180v160Zm440 0h160v-160H620v160Z\"/>\n",
              "  </svg>\n",
              "    </button>\n",
              "\n",
              "  <style>\n",
              "    .colab-df-container {\n",
              "      display:flex;\n",
              "      gap: 12px;\n",
              "    }\n",
              "\n",
              "    .colab-df-convert {\n",
              "      background-color: #E8F0FE;\n",
              "      border: none;\n",
              "      border-radius: 50%;\n",
              "      cursor: pointer;\n",
              "      display: none;\n",
              "      fill: #1967D2;\n",
              "      height: 32px;\n",
              "      padding: 0 0 0 0;\n",
              "      width: 32px;\n",
              "    }\n",
              "\n",
              "    .colab-df-convert:hover {\n",
              "      background-color: #E2EBFA;\n",
              "      box-shadow: 0px 1px 2px rgba(60, 64, 67, 0.3), 0px 1px 3px 1px rgba(60, 64, 67, 0.15);\n",
              "      fill: #174EA6;\n",
              "    }\n",
              "\n",
              "    .colab-df-buttons div {\n",
              "      margin-bottom: 4px;\n",
              "    }\n",
              "\n",
              "    [theme=dark] .colab-df-convert {\n",
              "      background-color: #3B4455;\n",
              "      fill: #D2E3FC;\n",
              "    }\n",
              "\n",
              "    [theme=dark] .colab-df-convert:hover {\n",
              "      background-color: #434B5C;\n",
              "      box-shadow: 0px 1px 3px 1px rgba(0, 0, 0, 0.15);\n",
              "      filter: drop-shadow(0px 1px 2px rgba(0, 0, 0, 0.3));\n",
              "      fill: #FFFFFF;\n",
              "    }\n",
              "  </style>\n",
              "\n",
              "    <script>\n",
              "      const buttonEl =\n",
              "        document.querySelector('#df-3f6bb9ad-44b0-4e06-abea-0ed7869d4837 button.colab-df-convert');\n",
              "      buttonEl.style.display =\n",
              "        google.colab.kernel.accessAllowed ? 'block' : 'none';\n",
              "\n",
              "      async function convertToInteractive(key) {\n",
              "        const element = document.querySelector('#df-3f6bb9ad-44b0-4e06-abea-0ed7869d4837');\n",
              "        const dataTable =\n",
              "          await google.colab.kernel.invokeFunction('convertToInteractive',\n",
              "                                                    [key], {});\n",
              "        if (!dataTable) return;\n",
              "\n",
              "        const docLinkHtml = 'Like what you see? Visit the ' +\n",
              "          '<a target=\"_blank\" href=https://colab.research.google.com/notebooks/data_table.ipynb>data table notebook</a>'\n",
              "          + ' to learn more about interactive tables.';\n",
              "        element.innerHTML = '';\n",
              "        dataTable['output_type'] = 'display_data';\n",
              "        await google.colab.output.renderOutput(dataTable, element);\n",
              "        const docLink = document.createElement('div');\n",
              "        docLink.innerHTML = docLinkHtml;\n",
              "        element.appendChild(docLink);\n",
              "      }\n",
              "    </script>\n",
              "  </div>\n",
              "\n",
              "\n",
              "<div id=\"df-c015092a-d354-4d8c-939e-53fe5287c9a0\">\n",
              "  <button class=\"colab-df-quickchart\" onclick=\"quickchart('df-c015092a-d354-4d8c-939e-53fe5287c9a0')\"\n",
              "            title=\"Suggest charts\"\n",
              "            style=\"display:none;\">\n",
              "\n",
              "<svg xmlns=\"http://www.w3.org/2000/svg\" height=\"24px\"viewBox=\"0 0 24 24\"\n",
              "     width=\"24px\">\n",
              "    <g>\n",
              "        <path d=\"M19 3H5c-1.1 0-2 .9-2 2v14c0 1.1.9 2 2 2h14c1.1 0 2-.9 2-2V5c0-1.1-.9-2-2-2zM9 17H7v-7h2v7zm4 0h-2V7h2v10zm4 0h-2v-4h2v4z\"/>\n",
              "    </g>\n",
              "</svg>\n",
              "  </button>\n",
              "\n",
              "<style>\n",
              "  .colab-df-quickchart {\n",
              "      --bg-color: #E8F0FE;\n",
              "      --fill-color: #1967D2;\n",
              "      --hover-bg-color: #E2EBFA;\n",
              "      --hover-fill-color: #174EA6;\n",
              "      --disabled-fill-color: #AAA;\n",
              "      --disabled-bg-color: #DDD;\n",
              "  }\n",
              "\n",
              "  [theme=dark] .colab-df-quickchart {\n",
              "      --bg-color: #3B4455;\n",
              "      --fill-color: #D2E3FC;\n",
              "      --hover-bg-color: #434B5C;\n",
              "      --hover-fill-color: #FFFFFF;\n",
              "      --disabled-bg-color: #3B4455;\n",
              "      --disabled-fill-color: #666;\n",
              "  }\n",
              "\n",
              "  .colab-df-quickchart {\n",
              "    background-color: var(--bg-color);\n",
              "    border: none;\n",
              "    border-radius: 50%;\n",
              "    cursor: pointer;\n",
              "    display: none;\n",
              "    fill: var(--fill-color);\n",
              "    height: 32px;\n",
              "    padding: 0;\n",
              "    width: 32px;\n",
              "  }\n",
              "\n",
              "  .colab-df-quickchart:hover {\n",
              "    background-color: var(--hover-bg-color);\n",
              "    box-shadow: 0 1px 2px rgba(60, 64, 67, 0.3), 0 1px 3px 1px rgba(60, 64, 67, 0.15);\n",
              "    fill: var(--button-hover-fill-color);\n",
              "  }\n",
              "\n",
              "  .colab-df-quickchart-complete:disabled,\n",
              "  .colab-df-quickchart-complete:disabled:hover {\n",
              "    background-color: var(--disabled-bg-color);\n",
              "    fill: var(--disabled-fill-color);\n",
              "    box-shadow: none;\n",
              "  }\n",
              "\n",
              "  .colab-df-spinner {\n",
              "    border: 2px solid var(--fill-color);\n",
              "    border-color: transparent;\n",
              "    border-bottom-color: var(--fill-color);\n",
              "    animation:\n",
              "      spin 1s steps(1) infinite;\n",
              "  }\n",
              "\n",
              "  @keyframes spin {\n",
              "    0% {\n",
              "      border-color: transparent;\n",
              "      border-bottom-color: var(--fill-color);\n",
              "      border-left-color: var(--fill-color);\n",
              "    }\n",
              "    20% {\n",
              "      border-color: transparent;\n",
              "      border-left-color: var(--fill-color);\n",
              "      border-top-color: var(--fill-color);\n",
              "    }\n",
              "    30% {\n",
              "      border-color: transparent;\n",
              "      border-left-color: var(--fill-color);\n",
              "      border-top-color: var(--fill-color);\n",
              "      border-right-color: var(--fill-color);\n",
              "    }\n",
              "    40% {\n",
              "      border-color: transparent;\n",
              "      border-right-color: var(--fill-color);\n",
              "      border-top-color: var(--fill-color);\n",
              "    }\n",
              "    60% {\n",
              "      border-color: transparent;\n",
              "      border-right-color: var(--fill-color);\n",
              "    }\n",
              "    80% {\n",
              "      border-color: transparent;\n",
              "      border-right-color: var(--fill-color);\n",
              "      border-bottom-color: var(--fill-color);\n",
              "    }\n",
              "    90% {\n",
              "      border-color: transparent;\n",
              "      border-bottom-color: var(--fill-color);\n",
              "    }\n",
              "  }\n",
              "</style>\n",
              "\n",
              "  <script>\n",
              "    async function quickchart(key) {\n",
              "      const quickchartButtonEl =\n",
              "        document.querySelector('#' + key + ' button');\n",
              "      quickchartButtonEl.disabled = true;  // To prevent multiple clicks.\n",
              "      quickchartButtonEl.classList.add('colab-df-spinner');\n",
              "      try {\n",
              "        const charts = await google.colab.kernel.invokeFunction(\n",
              "            'suggestCharts', [key], {});\n",
              "      } catch (error) {\n",
              "        console.error('Error during call to suggestCharts:', error);\n",
              "      }\n",
              "      quickchartButtonEl.classList.remove('colab-df-spinner');\n",
              "      quickchartButtonEl.classList.add('colab-df-quickchart-complete');\n",
              "    }\n",
              "    (() => {\n",
              "      let quickchartButtonEl =\n",
              "        document.querySelector('#df-c015092a-d354-4d8c-939e-53fe5287c9a0 button');\n",
              "      quickchartButtonEl.style.display =\n",
              "        google.colab.kernel.accessAllowed ? 'block' : 'none';\n",
              "    })();\n",
              "  </script>\n",
              "</div>\n",
              "    </div>\n",
              "  </div>\n"
            ]
          },
          "metadata": {},
          "execution_count": 2
        }
      ]
    },
    {
      "cell_type": "code",
      "source": [
        "df.isnull().sum()"
      ],
      "metadata": {
        "colab": {
          "base_uri": "https://localhost:8080/"
        },
        "id": "fH_aFg-k5r-D",
        "outputId": "3d3412e9-8783-444f-99e5-652afc93b052"
      },
      "execution_count": 3,
      "outputs": [
        {
          "output_type": "execute_result",
          "data": {
            "text/plain": [
              "userId       343606\n",
              "movieId      343606\n",
              "rating       343606\n",
              "timestamp    343606\n",
              "dtype: int64"
            ]
          },
          "metadata": {},
          "execution_count": 3
        }
      ]
    },
    {
      "cell_type": "code",
      "source": [
        "df.shape"
      ],
      "metadata": {
        "colab": {
          "base_uri": "https://localhost:8080/"
        },
        "id": "Yr_atpg6526-",
        "outputId": "fa237b52-4b8c-41d3-857e-384d8898a76a"
      },
      "execution_count": 4,
      "outputs": [
        {
          "output_type": "execute_result",
          "data": {
            "text/plain": [
              "(1048575, 4)"
            ]
          },
          "metadata": {},
          "execution_count": 4
        }
      ]
    },
    {
      "cell_type": "code",
      "source": [
        "df = df.dropna()"
      ],
      "metadata": {
        "id": "_DxT5Ih355IF"
      },
      "execution_count": 7,
      "outputs": []
    },
    {
      "cell_type": "code",
      "source": [
        "df.isnull().sum()"
      ],
      "metadata": {
        "colab": {
          "base_uri": "https://localhost:8080/"
        },
        "id": "mGrUGqCD6BCu",
        "outputId": "59aaa4cb-0787-413a-aa7f-a6bc6ddd7d61"
      },
      "execution_count": 8,
      "outputs": [
        {
          "output_type": "execute_result",
          "data": {
            "text/plain": [
              "userId       0\n",
              "movieId      0\n",
              "rating       0\n",
              "timestamp    0\n",
              "dtype: int64"
            ]
          },
          "metadata": {},
          "execution_count": 8
        }
      ]
    },
    {
      "cell_type": "code",
      "source": [
        "import matplotlib.pyplot as plt\n",
        "import seaborn as sns"
      ],
      "metadata": {
        "id": "mBX_A9Vp6H5z"
      },
      "execution_count": 9,
      "outputs": []
    },
    {
      "cell_type": "code",
      "source": [
        "df.info()"
      ],
      "metadata": {
        "colab": {
          "base_uri": "https://localhost:8080/"
        },
        "id": "kESF8Kta6O0O",
        "outputId": "fbef1aa8-d0b7-4004-eea1-15cf65cfa93f"
      },
      "execution_count": 10,
      "outputs": [
        {
          "output_type": "stream",
          "name": "stdout",
          "text": [
            "<class 'pandas.core.frame.DataFrame'>\n",
            "Int64Index: 704969 entries, 0 to 704968\n",
            "Data columns (total 4 columns):\n",
            " #   Column     Non-Null Count   Dtype  \n",
            "---  ------     --------------   -----  \n",
            " 0   userId     704969 non-null  float64\n",
            " 1   movieId    704969 non-null  float64\n",
            " 2   rating     704969 non-null  float64\n",
            " 3   timestamp  704969 non-null  object \n",
            "dtypes: float64(3), object(1)\n",
            "memory usage: 26.9+ MB\n"
          ]
        }
      ]
    },
    {
      "cell_type": "code",
      "source": [
        "sns.countplot(x='rating', data=df)"
      ],
      "metadata": {
        "colab": {
          "base_uri": "https://localhost:8080/",
          "height": 466
        },
        "id": "sL276HKe6Q6b",
        "outputId": "38c19cfb-3e0e-43b2-b018-5cd95125d26d"
      },
      "execution_count": 11,
      "outputs": [
        {
          "output_type": "execute_result",
          "data": {
            "text/plain": [
              "<Axes: xlabel='rating', ylabel='count'>"
            ]
          },
          "metadata": {},
          "execution_count": 11
        },
        {
          "output_type": "display_data",
          "data": {
            "text/plain": [
              "<Figure size 640x480 with 1 Axes>"
            ],
            "image/png": "[encoded data removed]"
          },
          "metadata": {}
        }
      ]
    },
    {
      "cell_type": "code",
      "source": [
        "# Creating the user-item matrix\n",
        "user_item_matrix = df.pivot(index='userId', columns='movieId', values='rating').fillna(0)"
      ],
      "metadata": {
        "id": "5ASfbu5z6VbY"
      },
      "execution_count": 12,
      "outputs": []
    },
    {
      "cell_type": "code",
      "source": [
        "user_item_matrix"
      ],
      "metadata": {
        "colab": {
          "base_uri": "https://localhost:8080/",
          "height": 475
        },
        "id": "JEePXswI6ew2",
        "outputId": "555db15c-02c3-47c2-fec4-7852e43c1b38"
      },
      "execution_count": 15,
      "outputs": [
        {
          "output_type": "execute_result",
          "data": {
            "text/plain": [
              "movieId  1.0       2.0       3.0       4.0       5.0       6.0       7.0       \\\n",
              "userId                                                                          \n",
              "1.0           0.0       3.5       0.0       0.0       0.0       0.0       0.0   \n",
              "2.0           0.0       0.0       4.0       0.0       0.0       0.0       0.0   \n",
              "3.0           4.0       0.0       0.0       0.0       0.0       0.0       0.0   \n",
              "4.0           0.0       0.0       0.0       0.0       0.0       3.0       0.0   \n",
              "5.0           0.0       3.0       0.0       0.0       0.0       0.0       0.0   \n",
              "...           ...       ...       ...       ...       ...       ...       ...   \n",
              "4673.0        5.0       0.0       0.0       0.0       0.0       0.0       0.0   \n",
              "4674.0        0.0       0.0       0.0       0.0       0.0       3.0       0.0   \n",
              "4675.0        0.0       0.0       0.0       0.0       0.0       0.0       0.0   \n",
              "4676.0        0.0       0.0       0.0       0.0       0.0       0.0       0.0   \n",
              "4677.0        4.0       3.5       2.5       0.0       0.0       4.0       0.0   \n",
              "\n",
              "movieId  8.0       9.0       10.0      ...  129233.0  129303.0  129354.0  \\\n",
              "userId                                 ...                                 \n",
              "1.0           0.0       0.0       0.0  ...       0.0       0.0       0.0   \n",
              "2.0           0.0       0.0       0.0  ...       0.0       0.0       0.0   \n",
              "3.0           0.0       0.0       0.0  ...       0.0       0.0       0.0   \n",
              "4.0           0.0       0.0       4.0  ...       0.0       0.0       0.0   \n",
              "5.0           0.0       0.0       0.0  ...       0.0       0.0       0.0   \n",
              "...           ...       ...       ...  ...       ...       ...       ...   \n",
              "4673.0        0.0       0.0       0.0  ...       0.0       0.0       0.0   \n",
              "4674.0        0.0       0.0       4.0  ...       0.0       0.0       0.0   \n",
              "4675.0        0.0       0.0       0.0  ...       0.0       0.0       0.0   \n",
              "4676.0        0.0       0.0       0.0  ...       0.0       0.0       0.0   \n",
              "4677.0        0.0       0.0       4.0  ...       0.0       0.0       0.0   \n",
              "\n",
              "movieId  129428.0  129707.0  130052.0  130073.0  130219.0  130490.0  130642.0  \n",
              "userId                                                                         \n",
              "1.0           0.0       0.0       0.0       0.0       0.0       0.0       0.0  \n",
              "2.0           0.0       0.0       0.0       0.0       0.0       0.0       0.0  \n",
              "3.0           0.0       0.0       0.0       0.0       0.0       0.0       0.0  \n",
              "4.0           0.0       0.0       0.0       0.0       0.0       0.0       0.0  \n",
              "5.0           0.0       0.0       0.0       0.0       0.0       0.0       0.0  \n",
              "...           ...       ...       ...       ...       ...       ...       ...  \n",
              "4673.0        0.0       0.0       0.0       0.0       0.0       0.0       0.0  \n",
              "4674.0        0.0       0.0       0.0       0.0       0.0       0.0       0.0  \n",
              "4675.0        0.0       0.0       0.0       0.0       0.0       0.0       0.0  \n",
              "4676.0        0.0       0.0       0.0       0.0       0.0       0.0       0.0  \n",
              "4677.0        0.0       0.0       0.0       0.0       0.0       0.0       0.0  \n",
              "\n",
              "[4677 rows x 13391 columns]"
            ],
            "text/html": [
              "\n",
              "  <div id=\"df-dd8562ea-e4de-45dd-8df3-d8f1e8e5280d\" class=\"colab-df-container\">\n",
              "    <div>\n",
              "<style scoped>\n",
              "    .dataframe tbody tr th:only-of-type {\n",
              "        vertical-align: middle;\n",
              "    }\n",
              "\n",
              "    .dataframe tbody tr th {\n",
              "        vertical-align: top;\n",
              "    }\n",
              "\n",
              "    .dataframe thead th {\n",
              "        text-align: right;\n",
              "    }\n",
              "</style>\n",
              "<table border=\"1\" class=\"dataframe\">\n",
              "  <thead>\n",
              "    <tr style=\"text-align: right;\">\n",
              "      <th>movieId</th>\n",
              "      <th>1.0</th>\n",
              "      <th>2.0</th>\n",
              "      <th>3.0</th>\n",
              "      <th>4.0</th>\n",
              "      <th>5.0</th>\n",
              "      <th>6.0</th>\n",
              "      <th>7.0</th>\n",
              "      <th>8.0</th>\n",
              "      <th>9.0</th>\n",
              "      <th>10.0</th>\n",
              "      <th>...</th>\n",
              "      <th>129233.0</th>\n",
              "      <th>129303.0</th>\n",
              "      <th>129354.0</th>\n",
              "      <th>129428.0</th>\n",
              "      <th>129707.0</th>\n",
              "      <th>130052.0</th>\n",
              "      <th>130073.0</th>\n",
              "      <th>130219.0</th>\n",
              "      <th>130490.0</th>\n",
              "      <th>130642.0</th>\n",
              "    </tr>\n",
              "    <tr>\n",
              "      <th>userId</th>\n",
              "      <th></th>\n",
              "      <th></th>\n",
              "      <th></th>\n",
              "      <th></th>\n",
              "      <th></th>\n",
              "      <th></th>\n",
              "      <th></th>\n",
              "      <th></th>\n",
              "      <th></th>\n",
              "      <th></th>\n",
              "      <th></th>\n",
              "      <th></th>\n",
              "      <th></th>\n",
              "      <th></th>\n",
              "      <th></th>\n",
              "      <th></th>\n",
              "      <th></th>\n",
              "      <th></th>\n",
              "      <th></th>\n",
              "      <th></th>\n",
              "      <th></th>\n",
              "    </tr>\n",
              "  </thead>\n",
              "  <tbody>\n",
              "    <tr>\n",
              "      <th>1.0</th>\n",
              "      <td>0.0</td>\n",
              "      <td>3.5</td>\n",
              "      <td>0.0</td>\n",
              "      <td>0.0</td>\n",
              "      <td>0.0</td>\n",
              "      <td>0.0</td>\n",
              "      <td>0.0</td>\n",
              "      <td>0.0</td>\n",
              "      <td>0.0</td>\n",
              "      <td>0.0</td>\n",
              "      <td>...</td>\n",
              "      <td>0.0</td>\n",
              "      <td>0.0</td>\n",
              "      <td>0.0</td>\n",
              "      <td>0.0</td>\n",
              "      <td>0.0</td>\n",
              "      <td>0.0</td>\n",
              "      <td>0.0</td>\n",
              "      <td>0.0</td>\n",
              "      <td>0.0</td>\n",
              "      <td>0.0</td>\n",
              "    </tr>\n",
              "    <tr>\n",
              "      <th>2.0</th>\n",
              "      <td>0.0</td>\n",
              "      <td>0.0</td>\n",
              "      <td>4.0</td>\n",
              "      <td>0.0</td>\n",
              "      <td>0.0</td>\n",
              "      <td>0.0</td>\n",
              "      <td>0.0</td>\n",
              "      <td>0.0</td>\n",
              "      <td>0.0</td>\n",
              "      <td>0.0</td>\n",
              "      <td>...</td>\n",
              "      <td>0.0</td>\n",
              "      <td>0.0</td>\n",
              "      <td>0.0</td>\n",
              "      <td>0.0</td>\n",
              "      <td>0.0</td>\n",
              "      <td>0.0</td>\n",
              "      <td>0.0</td>\n",
              "      <td>0.0</td>\n",
              "      <td>0.0</td>\n",
              "      <td>0.0</td>\n",
              "    </tr>\n",
              "    <tr>\n",
              "      <th>3.0</th>\n",
              "      <td>4.0</td>\n",
              "      <td>0.0</td>\n",
              "      <td>0.0</td>\n",
              "      <td>0.0</td>\n",
              "      <td>0.0</td>\n",
              "      <td>0.0</td>\n",
              "      <td>0.0</td>\n",
              "      <td>0.0</td>\n",
              "      <td>0.0</td>\n",
              "      <td>0.0</td>\n",
              "      <td>...</td>\n",
              "      <td>0.0</td>\n",
              "      <td>0.0</td>\n",
              "      <td>0.0</td>\n",
              "      <td>0.0</td>\n",
              "      <td>0.0</td>\n",
              "      <td>0.0</td>\n",
              "      <td>0.0</td>\n",
              "      <td>0.0</td>\n",
              "      <td>0.0</td>\n",
              "      <td>0.0</td>\n",
              "    </tr>\n",
              "    <tr>\n",
              "      <th>4.0</th>\n",
              "      <td>0.0</td>\n",
              "      <td>0.0</td>\n",
              "      <td>0.0</td>\n",
              "      <td>0.0</td>\n",
              "      <td>0.0</td>\n",
              "      <td>3.0</td>\n",
              "      <td>0.0</td>\n",
              "      <td>0.0</td>\n",
              "      <td>0.0</td>\n",
              "      <td>4.0</td>\n",
              "      <td>...</td>\n",
              "      <td>0.0</td>\n",
              "      <td>0.0</td>\n",
              "      <td>0.0</td>\n",
              "      <td>0.0</td>\n",
              "      <td>0.0</td>\n",
              "      <td>0.0</td>\n",
              "      <td>0.0</td>\n",
              "      <td>0.0</td>\n",
              "      <td>0.0</td>\n",
              "      <td>0.0</td>\n",
              "    </tr>\n",
              "    <tr>\n",
              "      <th>5.0</th>\n",
              "      <td>0.0</td>\n",
              "      <td>3.0</td>\n",
              "      <td>0.0</td>\n",
              "      <td>0.0</td>\n",
              "      <td>0.0</td>\n",
              "      <td>0.0</td>\n",
              "      <td>0.0</td>\n",
              "      <td>0.0</td>\n",
              "      <td>0.0</td>\n",
              "      <td>0.0</td>\n",
              "      <td>...</td>\n",
              "      <td>0.0</td>\n",
              "      <td>0.0</td>\n",
              "      <td>0.0</td>\n",
              "      <td>0.0</td>\n",
              "      <td>0.0</td>\n",
              "      <td>0.0</td>\n",
              "      <td>0.0</td>\n",
              "      <td>0.0</td>\n",
              "      <td>0.0</td>\n",
              "      <td>0.0</td>\n",
              "    </tr>\n",
              "    <tr>\n",
              "      <th>...</th>\n",
              "      <td>...</td>\n",
              "      <td>...</td>\n",
              "      <td>...</td>\n",
              "      <td>...</td>\n",
              "      <td>...</td>\n",
              "      <td>...</td>\n",
              "      <td>...</td>\n",
              "      <td>...</td>\n",
              "      <td>...</td>\n",
              "      <td>...</td>\n",
              "      <td>...</td>\n",
              "      <td>...</td>\n",
              "      <td>...</td>\n",
              "      <td>...</td>\n",
              "      <td>...</td>\n",
              "      <td>...</td>\n",
              "      <td>...</td>\n",
              "      <td>...</td>\n",
              "      <td>...</td>\n",
              "      <td>...</td>\n",
              "      <td>...</td>\n",
              "    </tr>\n",
              "    <tr>\n",
              "      <th>4673.0</th>\n",
              "      <td>5.0</td>\n",
              "      <td>0.0</td>\n",
              "      <td>0.0</td>\n",
              "      <td>0.0</td>\n",
              "      <td>0.0</td>\n",
              "      <td>0.0</td>\n",
              "      <td>0.0</td>\n",
              "      <td>0.0</td>\n",
              "      <td>0.0</td>\n",
              "      <td>0.0</td>\n",
              "      <td>...</td>\n",
              "      <td>0.0</td>\n",
              "      <td>0.0</td>\n",
              "      <td>0.0</td>\n",
              "      <td>0.0</td>\n",
              "      <td>0.0</td>\n",
              "      <td>0.0</td>\n",
              "      <td>0.0</td>\n",
              "      <td>0.0</td>\n",
              "      <td>0.0</td>\n",
              "      <td>0.0</td>\n",
              "    </tr>\n",
              "    <tr>\n",
              "      <th>4674.0</th>\n",
              "      <td>0.0</td>\n",
              "      <td>0.0</td>\n",
              "      <td>0.0</td>\n",
              "      <td>0.0</td>\n",
              "      <td>0.0</td>\n",
              "      <td>3.0</td>\n",
              "      <td>0.0</td>\n",
              "      <td>0.0</td>\n",
              "      <td>0.0</td>\n",
              "      <td>4.0</td>\n",
              "      <td>...</td>\n",
              "      <td>0.0</td>\n",
              "      <td>0.0</td>\n",
              "      <td>0.0</td>\n",
              "      <td>0.0</td>\n",
              "      <td>0.0</td>\n",
              "      <td>0.0</td>\n",
              "      <td>0.0</td>\n",
              "      <td>0.0</td>\n",
              "      <td>0.0</td>\n",
              "      <td>0.0</td>\n",
              "    </tr>\n",
              "    <tr>\n",
              "      <th>4675.0</th>\n",
              "      <td>0.0</td>\n",
              "      <td>0.0</td>\n",
              "      <td>0.0</td>\n",
              "      <td>0.0</td>\n",
              "      <td>0.0</td>\n",
              "      <td>0.0</td>\n",
              "      <td>0.0</td>\n",
              "      <td>0.0</td>\n",
              "      <td>0.0</td>\n",
              "      <td>0.0</td>\n",
              "      <td>...</td>\n",
              "      <td>0.0</td>\n",
              "      <td>0.0</td>\n",
              "      <td>0.0</td>\n",
              "      <td>0.0</td>\n",
              "      <td>0.0</td>\n",
              "      <td>0.0</td>\n",
              "      <td>0.0</td>\n",
              "      <td>0.0</td>\n",
              "      <td>0.0</td>\n",
              "      <td>0.0</td>\n",
              "    </tr>\n",
              "    <tr>\n",
              "      <th>4676.0</th>\n",
              "      <td>0.0</td>\n",
              "      <td>0.0</td>\n",
              "      <td>0.0</td>\n",
              "      <td>0.0</td>\n",
              "      <td>0.0</td>\n",
              "      <td>0.0</td>\n",
              "      <td>0.0</td>\n",
              "      <td>0.0</td>\n",
              "      <td>0.0</td>\n",
              "      <td>0.0</td>\n",
              "      <td>...</td>\n",
              "      <td>0.0</td>\n",
              "      <td>0.0</td>\n",
              "      <td>0.0</td>\n",
              "      <td>0.0</td>\n",
              "      <td>0.0</td>\n",
              "      <td>0.0</td>\n",
              "      <td>0.0</td>\n",
              "      <td>0.0</td>\n",
              "      <td>0.0</td>\n",
              "      <td>0.0</td>\n",
              "    </tr>\n",
              "    <tr>\n",
              "      <th>4677.0</th>\n",
              "      <td>4.0</td>\n",
              "      <td>3.5</td>\n",
              "      <td>2.5</td>\n",
              "      <td>0.0</td>\n",
              "      <td>0.0</td>\n",
              "      <td>4.0</td>\n",
              "      <td>0.0</td>\n",
              "      <td>0.0</td>\n",
              "      <td>0.0</td>\n",
              "      <td>4.0</td>\n",
              "      <td>...</td>\n",
              "      <td>0.0</td>\n",
              "      <td>0.0</td>\n",
              "      <td>0.0</td>\n",
              "      <td>0.0</td>\n",
              "      <td>0.0</td>\n",
              "      <td>0.0</td>\n",
              "      <td>0.0</td>\n",
              "      <td>0.0</td>\n",
              "      <td>0.0</td>\n",
              "      <td>0.0</td>\n",
              "    </tr>\n",
              "  </tbody>\n",
              "</table>\n",
              "<p>4677 rows × 13391 columns</p>\n",
              "</div>\n",
              "    <div class=\"colab-df-buttons\">\n",
              "\n",
              "  <div class=\"colab-df-container\">\n",
              "    <button class=\"colab-df-convert\" onclick=\"convertToInteractive('df-dd8562ea-e4de-45dd-8df3-d8f1e8e5280d')\"\n",
              "            title=\"Convert this dataframe to an interactive table.\"\n",
              "            style=\"display:none;\">\n",
              "\n",
              "  <svg xmlns=\"http://www.w3.org/2000/svg\" height=\"24px\" viewBox=\"0 -960 960 960\">\n",
              "    <path d=\"M120-120v-720h720v720H120Zm60-500h600v-160H180v160Zm220 220h160v-160H400v160Zm0 220h160v-160H400v160ZM180-400h160v-160H180v160Zm440 0h160v-160H620v160ZM180-180h160v-160H180v160Zm440 0h160v-160H620v160Z\"/>\n",
              "  </svg>\n",
              "    </button>\n",
              "\n",
              "  <style>\n",
              "    .colab-df-container {\n",
              "      display:flex;\n",
              "      gap: 12px;\n",
              "    }\n",
              "\n",
              "    .colab-df-convert {\n",
              "      background-color: #E8F0FE;\n",
              "      border: none;\n",
              "      border-radius: 50%;\n",
              "      cursor: pointer;\n",
              "      display: none;\n",
              "      fill: #1967D2;\n",
              "      height: 32px;\n",
              "      padding: 0 0 0 0;\n",
              "      width: 32px;\n",
              "    }\n",
              "\n",
              "    .colab-df-convert:hover {\n",
              "      background-color: #E2EBFA;\n",
              "      box-shadow: 0px 1px 2px rgba(60, 64, 67, 0.3), 0px 1px 3px 1px rgba(60, 64, 67, 0.15);\n",
              "      fill: #174EA6;\n",
              "    }\n",
              "\n",
              "    .colab-df-buttons div {\n",
              "      margin-bottom: 4px;\n",
              "    }\n",
              "\n",
              "    [theme=dark] .colab-df-convert {\n",
              "      background-color: #3B4455;\n",
              "      fill: #D2E3FC;\n",
              "    }\n",
              "\n",
              "    [theme=dark] .colab-df-convert:hover {\n",
              "      background-color: #434B5C;\n",
              "      box-shadow: 0px 1px 3px 1px rgba(0, 0, 0, 0.15);\n",
              "      filter: drop-shadow(0px 1px 2px rgba(0, 0, 0, 0.3));\n",
              "      fill: #FFFFFF;\n",
              "    }\n",
              "  </style>\n",
              "\n",
              "    <script>\n",
              "      const buttonEl =\n",
              "        document.querySelector('#df-dd8562ea-e4de-45dd-8df3-d8f1e8e5280d button.colab-df-convert');\n",
              "      buttonEl.style.display =\n",
              "        google.colab.kernel.accessAllowed ? 'block' : 'none';\n",
              "\n",
              "      async function convertToInteractive(key) {\n",
              "        const element = document.querySelector('#df-dd8562ea-e4de-45dd-8df3-d8f1e8e5280d');\n",
              "        const dataTable =\n",
              "          await google.colab.kernel.invokeFunction('convertToInteractive',\n",
              "                                                    [key], {});\n",
              "        if (!dataTable) return;\n",
              "\n",
              "        const docLinkHtml = 'Like what you see? Visit the ' +\n",
              "          '<a target=\"_blank\" href=https://colab.research.google.com/notebooks/data_table.ipynb>data table notebook</a>'\n",
              "          + ' to learn more about interactive tables.';\n",
              "        element.innerHTML = '';\n",
              "        dataTable['output_type'] = 'display_data';\n",
              "        await google.colab.output.renderOutput(dataTable, element);\n",
              "        const docLink = document.createElement('div');\n",
              "        docLink.innerHTML = docLinkHtml;\n",
              "        element.appendChild(docLink);\n",
              "      }\n",
              "    </script>\n",
              "  </div>\n",
              "\n",
              "\n",
              "<div id=\"df-af452018-3e83-431f-ba39-922c78c5c1e4\">\n",
              "  <button class=\"colab-df-quickchart\" onclick=\"quickchart('df-af452018-3e83-431f-ba39-922c78c5c1e4')\"\n",
              "            title=\"Suggest charts\"\n",
              "            style=\"display:none;\">\n",
              "\n",
              "<svg xmlns=\"http://www.w3.org/2000/svg\" height=\"24px\"viewBox=\"0 0 24 24\"\n",
              "     width=\"24px\">\n",
              "    <g>\n",
              "        <path d=\"M19 3H5c-1.1 0-2 .9-2 2v14c0 1.1.9 2 2 2h14c1.1 0 2-.9 2-2V5c0-1.1-.9-2-2-2zM9 17H7v-7h2v7zm4 0h-2V7h2v10zm4 0h-2v-4h2v4z\"/>\n",
              "    </g>\n",
              "</svg>\n",
              "  </button>\n",
              "\n",
              "<style>\n",
              "  .colab-df-quickchart {\n",
              "      --bg-color: #E8F0FE;\n",
              "      --fill-color: #1967D2;\n",
              "      --hover-bg-color: #E2EBFA;\n",
              "      --hover-fill-color: #174EA6;\n",
              "      --disabled-fill-color: #AAA;\n",
              "      --disabled-bg-color: #DDD;\n",
              "  }\n",
              "\n",
              "  [theme=dark] .colab-df-quickchart {\n",
              "      --bg-color: #3B4455;\n",
              "      --fill-color: #D2E3FC;\n",
              "      --hover-bg-color: #434B5C;\n",
              "      --hover-fill-color: #FFFFFF;\n",
              "      --disabled-bg-color: #3B4455;\n",
              "      --disabled-fill-color: #666;\n",
              "  }\n",
              "\n",
              "  .colab-df-quickchart {\n",
              "    background-color: var(--bg-color);\n",
              "    border: none;\n",
              "    border-radius: 50%;\n",
              "    cursor: pointer;\n",
              "    display: none;\n",
              "    fill: var(--fill-color);\n",
              "    height: 32px;\n",
              "    padding: 0;\n",
              "    width: 32px;\n",
              "  }\n",
              "\n",
              "  .colab-df-quickchart:hover {\n",
              "    background-color: var(--hover-bg-color);\n",
              "    box-shadow: 0 1px 2px rgba(60, 64, 67, 0.3), 0 1px 3px 1px rgba(60, 64, 67, 0.15);\n",
              "    fill: var(--button-hover-fill-color);\n",
              "  }\n",
              "\n",
              "  .colab-df-quickchart-complete:disabled,\n",
              "  .colab-df-quickchart-complete:disabled:hover {\n",
              "    background-color: var(--disabled-bg-color);\n",
              "    fill: var(--disabled-fill-color);\n",
              "    box-shadow: none;\n",
              "  }\n",
              "\n",
              "  .colab-df-spinner {\n",
              "    border: 2px solid var(--fill-color);\n",
              "    border-color: transparent;\n",
              "    border-bottom-color: var(--fill-color);\n",
              "    animation:\n",
              "      spin 1s steps(1) infinite;\n",
              "  }\n",
              "\n",
              "  @keyframes spin {\n",
              "    0% {\n",
              "      border-color: transparent;\n",
              "      border-bottom-color: var(--fill-color);\n",
              "      border-left-color: var(--fill-color);\n",
              "    }\n",
              "    20% {\n",
              "      border-color: transparent;\n",
              "      border-left-color: var(--fill-color);\n",
              "      border-top-color: var(--fill-color);\n",
              "    }\n",
              "    30% {\n",
              "      border-color: transparent;\n",
              "      border-left-color: var(--fill-color);\n",
              "      border-top-color: var(--fill-color);\n",
              "      border-right-color: var(--fill-color);\n",
              "    }\n",
              "    40% {\n",
              "      border-color: transparent;\n",
              "      border-right-color: var(--fill-color);\n",
              "      border-top-color: var(--fill-color);\n",
              "    }\n",
              "    60% {\n",
              "      border-color: transparent;\n",
              "      border-right-color: var(--fill-color);\n",
              "    }\n",
              "    80% {\n",
              "      border-color: transparent;\n",
              "      border-right-color: var(--fill-color);\n",
              "      border-bottom-color: var(--fill-color);\n",
              "    }\n",
              "    90% {\n",
              "      border-color: transparent;\n",
              "      border-bottom-color: var(--fill-color);\n",
              "    }\n",
              "  }\n",
              "</style>\n",
              "\n",
              "  <script>\n",
              "    async function quickchart(key) {\n",
              "      const quickchartButtonEl =\n",
              "        document.querySelector('#' + key + ' button');\n",
              "      quickchartButtonEl.disabled = true;  // To prevent multiple clicks.\n",
              "      quickchartButtonEl.classList.add('colab-df-spinner');\n",
              "      try {\n",
              "        const charts = await google.colab.kernel.invokeFunction(\n",
              "            'suggestCharts', [key], {});\n",
              "      } catch (error) {\n",
              "        console.error('Error during call to suggestCharts:', error);\n",
              "      }\n",
              "      quickchartButtonEl.classList.remove('colab-df-spinner');\n",
              "      quickchartButtonEl.classList.add('colab-df-quickchart-complete');\n",
              "    }\n",
              "    (() => {\n",
              "      let quickchartButtonEl =\n",
              "        document.querySelector('#df-af452018-3e83-431f-ba39-922c78c5c1e4 button');\n",
              "      quickchartButtonEl.style.display =\n",
              "        google.colab.kernel.accessAllowed ? 'block' : 'none';\n",
              "    })();\n",
              "  </script>\n",
              "</div>\n",
              "    </div>\n",
              "  </div>\n"
            ]
          },
          "metadata": {},
          "execution_count": 15
        }
      ]
    },
    {
      "cell_type": "code",
      "source": [
        "# SVD Model\n",
        "def svd_collaborative_filtering(ratings_matrix, k=50):\n",
        "    u, sigma, vt = svds(ratings_matrix, k=k)\n",
        "    sigma = np.diag(sigma)\n",
        "    predicted_ratings = np.dot(np.dot(u, sigma), vt)\n",
        "    return predicted_ratings"
      ],
      "metadata": {
        "id": "s7p3t-B76hcZ"
      },
      "execution_count": 16,
      "outputs": []
    },
    {
      "cell_type": "code",
      "source": [
        "# Neural Collaborative Filtering (NCF) Model\n",
        "def create_ncf_model(num_users, num_items, embedding_size=20):\n",
        "    user_input = Input(shape=(1,))\n",
        "    item_input = Input(shape=(1,))\n",
        "    user_embedding = Embedding(num_users, embedding_size, input_length=1)(user_input)\n",
        "    item_embedding = Embedding(num_items, embedding_size, input_length=1)(item_input)\n",
        "    user_flatten = Flatten()(user_embedding)\n",
        "    item_flatten = Flatten()(item_embedding)\n",
        "    concat = Concatenate()([user_flatten, item_flatten])\n",
        "    dense = Dense(128, activation='relu')(concat)\n",
        "    output = Dense(1, activation='linear')(dense)\n",
        "    model = Model(inputs=[user_input, item_input], outputs=output)\n",
        "    model.compile(optimizer='adam', loss='mean_squared_error')\n",
        "    return model"
      ],
      "metadata": {
        "id": "dPW-yS-z6r9e"
      },
      "execution_count": 17,
      "outputs": []
    },
    {
      "cell_type": "code",
      "source": [
        "# Evaluation Metrics\n",
        "def rmse(y_true, y_pred):\n",
        "    return np.sqrt(mean_squared_error(y_true, y_pred))"
      ],
      "metadata": {
        "id": "j8v4GUua6vCY"
      },
      "execution_count": 18,
      "outputs": []
    },
    {
      "cell_type": "code",
      "source": [
        "def mae(y_true, y_pred):\n",
        "    return mean_absolute_error(y_true, y_pred)"
      ],
      "metadata": {
        "id": "nfWukevE6w44"
      },
      "execution_count": 19,
      "outputs": []
    },
    {
      "cell_type": "code",
      "source": [
        "# Precision@K (example for K=10)\n",
        "def precision_at_k(y_true, y_pred, k=10):\n",
        "    top_k_items = np.argsort(y_pred)[::-1][:k]\n",
        "    hits = np.isin(top_k_items, y_true).sum()\n",
        "    return hits / k"
      ],
      "metadata": {
        "id": "uuzVjtjx60Oj"
      },
      "execution_count": 20,
      "outputs": []
    },
    {
      "cell_type": "code",
      "source": [
        "# Data Preparation for NCF\n",
        "# Convert the user and item IDs to categorical indices\n",
        "user_ids = df['userId'].astype(\"category\").cat.codes.values\n",
        "item_ids = df['movieId'].astype(\"category\").cat.codes.values\n",
        "ratings = df['rating'].values"
      ],
      "metadata": {
        "id": "kByXIc8B63G3"
      },
      "execution_count": 48,
      "outputs": []
    },
    {
      "cell_type": "code",
      "source": [
        "# Data Preparation for NCF\n",
        "from sklearn.preprocessing import LabelEncoder\n",
        "\n",
        "# Create label encoders for user and item IDs\n",
        "user_encoder = LabelEncoder()\n",
        "item_encoder = LabelEncoder()\n",
        "\n",
        "# Fit and transform the user and item IDs to integer labels\n",
        "user_ids = user_encoder.fit_transform(df['userId'])\n",
        "item_ids = item_encoder.fit_transform(df['movieId'])\n",
        "ratings = df['rating'].values"
      ],
      "metadata": {
        "id": "ze_rY-0vA9s6"
      },
      "execution_count": 49,
      "outputs": []
    },
    {
      "cell_type": "code",
      "source": [
        "# Splitting Data for Training and Testing\n",
        "X = np.column_stack((user_ids, item_ids))\n",
        "y = ratings\n",
        "X_train, X_test, y_train, y_test = train_test_split(X, y, test_size=0.2, random_state=42)"
      ],
      "metadata": {
        "id": "KU2TvMyl66xi"
      },
      "execution_count": 50,
      "outputs": []
    },
    {
      "cell_type": "code",
      "source": [
        "num_users, num_items = len(df['userId'].unique()), len(df['movieId'].unique())"
      ],
      "metadata": {
        "id": "NG9tEDlS69Ba"
      },
      "execution_count": 51,
      "outputs": []
    },
    {
      "cell_type": "code",
      "source": [
        "# Initialize and Train NCF Model\n",
        "ncf_model = create_ncf_model(num_users, num_items)\n",
        "ncf_model.fit([X_train[:, 0], X_train[:, 1]], y_train, epochs=3, batch_size=128, verbose=1)"
      ],
      "metadata": {
        "colab": {
          "base_uri": "https://localhost:8080/"
        },
        "id": "8IpER6KM7Edh",
        "outputId": "ce447bcd-de91-410b-b73d-d8952e9310f6"
      },
      "execution_count": 52,
      "outputs": [
        {
          "output_type": "stream",
          "name": "stdout",
          "text": [
            "Epoch 1/3\n",
            "4407/4407 [==============================] - 32s 7ms/step - loss: 0.9748\n",
            "Epoch 2/3\n",
            "4407/4407 [==============================] - 30s 7ms/step - loss: 0.7254\n",
            "Epoch 3/3\n",
            "4407/4407 [==============================] - 29s 7ms/step - loss: 0.6962\n"
          ]
        },
        {
          "output_type": "execute_result",
          "data": {
            "text/plain": [
              "<keras.src.callbacks.History at 0x7ecd7474b970>"
            ]
          },
          "metadata": {},
          "execution_count": 52
        }
      ]
    },
    {
      "cell_type": "code",
      "source": [
        "# Predictions from NCF\n",
        "y_pred_ncf = ncf_model.predict([X_test[:, 0], X_test[:, 1]]).flatten()"
      ],
      "metadata": {
        "colab": {
          "base_uri": "https://localhost:8080/"
        },
        "id": "txC9oG3W7k8M",
        "outputId": "d9797f0f-6a6e-42fc-b198-76ee6231b13e"
      },
      "execution_count": 53,
      "outputs": [
        {
          "output_type": "stream",
          "name": "stdout",
          "text": [
            "4407/4407 [==============================] - 8s 2ms/step\n"
          ]
        }
      ]
    },
    {
      "cell_type": "code",
      "source": [
        "y_pred_ncf"
      ],
      "metadata": {
        "colab": {
          "base_uri": "https://localhost:8080/"
        },
        "id": "CihbbkUh8RCY",
        "outputId": "f832dace-9a37-41ee-c45d-374693a9c4eb"
      },
      "execution_count": 54,
      "outputs": [
        {
          "output_type": "execute_result",
          "data": {
            "text/plain": [
              "array([3.8905895, 3.847178 , 4.493211 , ..., 4.234944 , 3.6148746,\n",
              "       3.839507 ], dtype=float32)"
            ]
          },
          "metadata": {},
          "execution_count": 54
        }
      ]
    },
    {
      "cell_type": "code",
      "source": [
        "# Evaluate NCF Model\n",
        "ncf_rmse = rmse(y_test, y_pred_ncf)\n",
        "ncf_mae = mae(y_test, y_pred_ncf)"
      ],
      "metadata": {
        "id": "F7RVbvNn8WFZ"
      },
      "execution_count": 55,
      "outputs": []
    },
    {
      "cell_type": "code",
      "source": [
        "(ncf_rmse,ncf_mae)"
      ],
      "metadata": {
        "colab": {
          "base_uri": "https://localhost:8080/"
        },
        "id": "XmWTBfR68apo",
        "outputId": "30c22dbf-f2bf-4dd8-940c-3aab02493cf8"
      },
      "execution_count": 56,
      "outputs": [
        {
          "output_type": "execute_result",
          "data": {
            "text/plain": [
              "(0.8463314103849598, 0.6527569526156369)"
            ]
          },
          "metadata": {},
          "execution_count": 56
        }
      ]
    },
    {
      "cell_type": "code",
      "source": [
        "# Using SVD Model\n",
        "predicted_ratings_svd = svd_collaborative_filtering(user_item_matrix.values)\n",
        "actual_ratings = user_item_matrix.values[user_item_matrix.notna()]"
      ],
      "metadata": {
        "id": "TzIS3OzK8eHF"
      },
      "execution_count": 57,
      "outputs": []
    },
    {
      "cell_type": "code",
      "source": [
        "# Flatten the matrices for comparison\n",
        "predicted_ratings_svd_flat = predicted_ratings_svd.flatten()[user_item_matrix.notna().values.flatten()]\n",
        "actual_ratings_flat = actual_ratings.flatten()"
      ],
      "metadata": {
        "id": "TLDm7eDd8n20"
      },
      "execution_count": 32,
      "outputs": []
    },
    {
      "cell_type": "code",
      "source": [
        "# Evaluate SVD Model\n",
        "svd_rmse = rmse(actual_ratings_flat, predicted_ratings_svd_flat)\n",
        "svd_mae = mae(actual_ratings_flat, predicted_ratings_svd_flat)"
      ],
      "metadata": {
        "id": "X15hbk7z8zFX"
      },
      "execution_count": 33,
      "outputs": []
    },
    {
      "cell_type": "code",
      "source": [
        "(svd_rmse, svd_mae)"
      ],
      "metadata": {
        "colab": {
          "base_uri": "https://localhost:8080/"
        },
        "id": "Y5gYMTjG82Se",
        "outputId": "1b0831fd-3e01-4c08-e425-849f9245eca2"
      },
      "execution_count": 34,
      "outputs": [
        {
          "output_type": "execute_result",
          "data": {
            "text/plain": [
              "(0.2882976970721812, 0.06955126239757953)"
            ]
          },
          "metadata": {},
          "execution_count": 34
        }
      ]
    },
    {
      "cell_type": "code",
      "source": [
        "\n",
        "# Print Evaluation Results\n",
        "print(\"SVD RMSE:\", svd_rmse)\n",
        "print(\"SVD MAE:\", svd_mae)\n",
        "print(\"\\n##############################################\\n\")\n",
        "print(\"NCF RMSE:\", ncf_rmse)\n",
        "print(\"NCF MAE:\", ncf_mae)\n"
      ],
      "metadata": {
        "colab": {
          "base_uri": "https://localhost:8080/"
        },
        "id": "UL1PbtaE855Q",
        "outputId": "4834ead7-d9cf-4e52-90ad-ed3da5d402ea"
      },
      "execution_count": 38,
      "outputs": [
        {
          "output_type": "stream",
          "name": "stdout",
          "text": [
            "SVD RMSE: 0.2882976970721812\n",
            "SVD MAE: 0.06955126239757953\n",
            "\n",
            "##############################################\n",
            "\n",
            "NCF RMSE: 0.8449232236471769\n",
            "NCF MAE: 0.6443046564576461\n"
          ]
        }
      ]
    },
    {
      "cell_type": "code",
      "source": [],
      "metadata": {
        "id": "RvzC3DjR88ux"
      },
      "execution_count": null,
      "outputs": []
    },
    {
      "cell_type": "markdown",
      "source": [
        "## with textual data- NCF"
      ],
      "metadata": {
        "id": "Z9iluQjmDhWr"
      }
    },
    {
      "cell_type": "code",
      "source": [
        "import numpy as np\n",
        "import pandas as pd\n",
        "from sklearn.feature_extraction.text import TfidfVectorizer\n",
        "from sklearn.model_selection import train_test_split\n",
        "from sklearn.metrics import mean_squared_error\n",
        "from tensorflow.keras.models import Model\n",
        "from tensorflow.keras.layers import Input, Embedding, Flatten, Dense, Concatenate, Dropout\n",
        "from tensorflow.keras.regularizers import l2\n",
        "\n",
        "# Example DataFrame\n",
        "df = pd.DataFrame({\n",
        "    'userId': np.random.randint(1, 100, 1000),\n",
        "    'movieId': np.random.randint(1, 500, 1000),\n",
        "    'rating': np.random.randint(1, 6, 1000),\n",
        "    'product_description': np.random.choice(['Action', 'Drama', 'Comedy', 'Thriller'], 1000)\n",
        "})\n",
        "\n",
        "# Preprocessing Text Data\n",
        "tfidf = TfidfVectorizer(max_features=100)\n",
        "tfidf_matrix = tfidf.fit_transform(df['product_description']).toarray()\n",
        "\n",
        "# Data Preparation for NCF\n",
        "user_ids = df['userId'].astype(\"category\").cat.codes.values\n",
        "item_ids = df['movieId'].astype(\"category\").cat.codes.values\n",
        "ratings = df['rating'].values\n",
        "\n",
        "X = np.column_stack((user_ids, item_ids, tfidf_matrix))\n",
        "y = ratings\n",
        "X_train, X_test, y_train, y_test = train_test_split(X, y, test_size=0.2, random_state=42)\n",
        "\n",
        "num_users, num_items = len(df['userId'].unique()), len(df['movieId'].unique())\n",
        "\n",
        "# NCF Model with Text Feature\n",
        "def create_ncf_model_with_text(num_users, num_items, text_features_dim, embedding_size=20):\n",
        "    # User, Item, and Text Input Layers\n",
        "    user_input = Input(shape=(1,))\n",
        "    item_input = Input(shape=(1,))\n",
        "    text_input = Input(shape=(text_features_dim,))\n",
        "\n",
        "    # Embeddings\n",
        "    user_embedding = Embedding(num_users, embedding_size, input_length=1)(user_input)\n",
        "    item_embedding = Embedding(num_items, embedding_size, input_length=1)(item_input)\n",
        "\n",
        "    # Flatten the embeddings\n",
        "    user_flatten = Flatten()(user_embedding)\n",
        "    item_flatten = Flatten()(item_embedding)\n",
        "\n",
        "    # Concatenate all inputs\n",
        "    concat = Concatenate()([user_flatten, item_flatten, text_input])\n",
        "\n",
        "    # Neural network layers\n",
        "    dense = Dense(128, activation='relu', kernel_regularizer=l2(0.001))(concat)\n",
        "    dropout = Dropout(0.5)(dense)\n",
        "    output = Dense(1, activation='linear')(dropout)\n",
        "\n",
        "    model = Model(inputs=[user_input, item_input, text_input], outputs=output)\n",
        "    model.compile(optimizer='adam', loss='mean_squared_error')\n",
        "    return model\n",
        "\n",
        "# Initialize and Train the Model\n",
        "ncf_model = create_ncf_model_with_text(num_users, num_items, tfidf_matrix.shape[1])\n",
        "ncf_model.fit([X_train[:, 0], X_train[:, 1], X_train[:, 2:]], y_train, epochs=5, batch_size=32, verbose=1)\n",
        "\n",
        "# Evaluate the Model\n",
        "y_pred_ncf = ncf_model.predict([X_test[:, 0], X_test[:, 1], X_test[:, 2:]]).flatten()\n",
        "rmse = np.sqrt(mean_squared_error(y_test, y_pred_ncf))\n",
        "\n",
        "print(\"NCF Model with Text Feature RMSE:\", rmse)"
      ],
      "metadata": {
        "id": "y_kRr5w_DjSq"
      },
      "execution_count": null,
      "outputs": []
    },
    {
      "cell_type": "code",
      "source": [
        "df.info()"
      ],
      "metadata": {
        "colab": {
          "base_uri": "https://localhost:8080/"
        },
        "id": "aA-B1sxhGbbj",
        "outputId": "ae7139e4-35f6-4657-cd81-a1965f272f0d"
      },
      "execution_count": 62,
      "outputs": [
        {
          "output_type": "stream",
          "name": "stdout",
          "text": [
            "<class 'pandas.core.frame.DataFrame'>\n",
            "Int64Index: 704969 entries, 0 to 704968\n",
            "Data columns (total 4 columns):\n",
            " #   Column     Non-Null Count   Dtype  \n",
            "---  ------     --------------   -----  \n",
            " 0   userId     704969 non-null  float64\n",
            " 1   movieId    704969 non-null  float64\n",
            " 2   rating     704969 non-null  float64\n",
            " 3   timestamp  704969 non-null  object \n",
            "dtypes: float64(3), object(1)\n",
            "memory usage: 26.9+ MB\n"
          ]
        }
      ]
    },
    {
      "cell_type": "code",
      "source": [],
      "metadata": {
        "id": "8q4ntSxmGbeZ"
      },
      "execution_count": null,
      "outputs": []
    },
    {
      "cell_type": "code",
      "source": [
        "# Import necessary libraries\n",
        "import numpy as np\n",
        "import pandas as pd\n",
        "import tensorflow as tf\n",
        "from sklearn.model_selection import train_test_split\n",
        "from sklearn.metrics import mean_squared_error, mean_absolute_error\n",
        "from scipy.sparse.linalg import svds\n",
        "from tensorflow.keras.models import Model\n",
        "from tensorflow.keras.layers import Input, Embedding, Flatten, Dense, Concatenate, Dropout\n",
        "from tensorflow.keras.regularizers import l2\n",
        "from tensorflow.keras.callbacks import EarlyStopping, LearningRateScheduler\n",
        "\n",
        "# Load the dataset with specified data type for the column\n",
        "df = pd.read_csv('/content/rating.csv', dtype={3: str})\n",
        "\n",
        "#df = df[['userId','movieId', 'rating']]\n",
        "\n",
        "# Data Preprocessing\n",
        "df = df.dropna()  # Drop missing values\n",
        "num_users = df['userId'].nunique()\n",
        "num_items = df['movieId'].nunique()\n",
        "\n",
        "# User-item matrix for SVD\n",
        "user_item_matrix = df.pivot(index='userId', columns='movieId', values='rating').fillna(0)\n",
        "\n",
        "# Convert user and item IDs to categorical codes for NCF\n",
        "from sklearn.preprocessing import LabelEncoder\n",
        "\n",
        "# Create label encoders for user and item IDs\n",
        "user_encoder = LabelEncoder()\n",
        "item_encoder = LabelEncoder()\n",
        "\n",
        "# Fit and transform the user and item IDs to integer labels\n",
        "user_ids = user_encoder.fit_transform(df['userId'])\n",
        "item_ids = item_encoder.fit_transform(df['movieId'])\n",
        "ratings = df['rating'].values\n",
        "\n",
        "X = np.column_stack((user_ids, item_ids))\n",
        "y = ratings\n",
        "X_train, X_test, y_train, y_test = train_test_split(X, y, test_size=0.2, random_state=42)\n",
        "\n",
        "# SVD Model\n",
        "def svd_collaborative_filtering(ratings_matrix, k=50):\n",
        "    u, sigma, vt = svds(ratings_matrix, k=k)\n",
        "    sigma = np.diag(sigma)\n",
        "    predicted_ratings = np.dot(np.dot(u, sigma), vt)\n",
        "    return predicted_ratings\n",
        "\n",
        "# Neural Collaborative Filtering (NCF) Model with Enhanced Layers\n",
        "def create_ncf_model(num_users, num_items, embedding_size=20):\n",
        "    user_input = Input(shape=(1,))\n",
        "    item_input = Input(shape=(1,))\n",
        "    user_embedding = Embedding(num_users, embedding_size, input_length=1)(user_input)\n",
        "    item_embedding = Embedding(num_items, embedding_size, input_length=1)(item_input)\n",
        "    user_flatten = Flatten()(user_embedding)\n",
        "    item_flatten = Flatten()(item_embedding)\n",
        "    concat = Concatenate()([user_flatten, item_flatten])\n",
        "    dense1 = Dense(128, activation='relu', kernel_regularizer=l2(0.001))(concat)\n",
        "    dropout1 = Dropout(0.05)(dense1)\n",
        "    dense2 = Dense(64, activation='relu')(dropout1)\n",
        "    dropout2 = Dropout(0.03)(dense2)\n",
        "    output = Dense(1, activation='linear')(dropout2)\n",
        "    model = Model(inputs=[user_input, item_input], outputs=output)\n",
        "    model.compile(optimizer='adam', loss='mean_squared_error')\n",
        "    return model\n",
        "\n",
        "# Early Stopping and Learning Rate Scheduler for NCF\n",
        "early_stopping = EarlyStopping(monitor='val_loss', patience=3)\n",
        "lr_scheduler = LearningRateScheduler(lambda epoch, lr: lr * 0.9 if epoch > 2 else lr)\n",
        "\n",
        "# Training the NCF Model\n",
        "# Split user IDs and item IDs in training and testing sets\n",
        "X_train_users, X_train_items = X_train[:, 0], X_train[:, 1]\n",
        "X_test_users, X_test_items = X_test[:, 0], X_test[:, 1]\n",
        "\n",
        "# Convert to tf.data.Dataset and structure for two inputs\n",
        "train_dataset = tf.data.Dataset.from_tensor_slices(((X_train_users, X_train_items), y_train))\n",
        "test_dataset = tf.data.Dataset.from_tensor_slices(((X_test_users, X_test_items), y_test))\n",
        "\n",
        "# Apply shuffle and batch\n",
        "train_dataset = train_dataset.shuffle(buffer_size=1000).batch(128)\n",
        "test_dataset = test_dataset.batch(128)\n",
        "\n",
        "# Training the NCF Model\n",
        "ncf_model = create_ncf_model(num_users, num_items)\n",
        "ncf_model.fit(train_dataset, epochs=5, callbacks=[early_stopping, lr_scheduler])\n",
        "\n",
        "# Predictions and Evaluation for NCF Model\n",
        "y_pred_ncf = ncf_model.predict(test_dataset).flatten()\n",
        "ncf_rmse = np.sqrt(mean_squared_error(y_test, y_pred_ncf))\n",
        "ncf_mae = mean_absolute_error(y_test, y_pred_ncf)\n",
        "\n",
        "\n",
        "# Using SVD Model\n",
        "predicted_ratings_svd = svd_collaborative_filtering(user_item_matrix.values)\n",
        "actual_ratings = user_item_matrix.values[user_item_matrix.notna()]\n",
        "\n",
        "# Flatten the matrices for comparison\n",
        "predicted_ratings_svd_flat = predicted_ratings_svd.flatten()[user_item_matrix.notna().values.flatten()]\n",
        "actual_ratings_flat = actual_ratings.flatten()\n",
        "\n",
        "# Evaluate SVD Model\n",
        "def rmse(y_true, y_pred):\n",
        "    return np.sqrt(mean_squared_error(y_true, y_pred))\n",
        "\n",
        "def mae(y_true, y_pred):\n",
        "    return mean_absolute_error(y_true, y_pred)\n",
        "\n",
        "svd_rmse = rmse(actual_ratings_flat, predicted_ratings_svd_flat)\n",
        "svd_mae = mae(actual_ratings_flat, predicted_ratings_svd_flat)\n",
        "\n",
        "# Print Evaluation Results\n",
        "print(\"SVD RMSE:\", svd_rmse)\n",
        "print(\"SVD MAE:\", svd_mae)\n",
        "print(\"\\n##############################################\\n\")\n",
        "print(\"NCF RMSE:\", ncf_rmse)\n",
        "print(\"NCF MAE:\", ncf_mae)"
      ],
      "metadata": {
        "colab": {
          "base_uri": "https://localhost:8080/"
        },
        "id": "IXu8d-2ZGbhC",
        "outputId": "58e13605-7e16-4d70-8ce1-364c4c92b18b"
      },
      "execution_count": 66,
      "outputs": [
        {
          "output_type": "stream",
          "name": "stdout",
          "text": [
            "Epoch 1/5\n",
            "4401/4407 [============================>.] - ETA: 0s - loss: 0.9258"
          ]
        },
        {
          "output_type": "stream",
          "name": "stderr",
          "text": [
            "WARNING:tensorflow:Early stopping conditioned on metric `val_loss` which is not available. Available metrics are: loss\n"
          ]
        },
        {
          "output_type": "stream",
          "name": "stdout",
          "text": [
            "\b\b\b\b\b\b\b\b\b\b\b\b\b\b\b\b\b\b\b\b\b\b\b\b\b\b\b\b\b\b\b\b\b\b\b\b\b\b\b\b\b\b\b\b\b\b\b\b\b\b\b\b\b\b\b\b\b\b\b\b\b\b\b\b\b\b\b\r4407/4407 [==============================] - 38s 8ms/step - loss: 0.9257 - lr: 0.0010\n",
            "Epoch 2/5\n",
            "4405/4407 [============================>.] - ETA: 0s - loss: 0.7532"
          ]
        },
        {
          "output_type": "stream",
          "name": "stderr",
          "text": [
            "WARNING:tensorflow:Early stopping conditioned on metric `val_loss` which is not available. Available metrics are: loss\n"
          ]
        },
        {
          "output_type": "stream",
          "name": "stdout",
          "text": [
            "\b\b\b\b\b\b\b\b\b\b\b\b\b\b\b\b\b\b\b\b\b\b\b\b\b\b\b\b\b\b\b\b\b\b\b\b\b\b\b\b\b\b\b\b\b\b\b\b\b\b\b\b\b\b\b\b\b\b\b\b\b\b\b\b\b\b\b\r4407/4407 [==============================] - 37s 8ms/step - loss: 0.7531 - lr: 0.0010\n",
            "Epoch 3/5\n",
            "4406/4407 [============================>.] - ETA: 0s - loss: 0.7064"
          ]
        },
        {
          "output_type": "stream",
          "name": "stderr",
          "text": [
            "WARNING:tensorflow:Early stopping conditioned on metric `val_loss` which is not available. Available metrics are: loss\n"
          ]
        },
        {
          "output_type": "stream",
          "name": "stdout",
          "text": [
            "\b\b\b\b\b\b\b\b\b\b\b\b\b\b\b\b\b\b\b\b\b\b\b\b\b\b\b\b\b\b\b\b\b\b\b\b\b\b\b\b\b\b\b\b\b\b\b\b\b\b\b\b\b\b\b\b\b\b\b\b\b\b\b\b\b\b\b\r4407/4407 [==============================] - 36s 8ms/step - loss: 0.7065 - lr: 0.0010\n",
            "Epoch 4/5\n",
            "4405/4407 [============================>.] - ETA: 0s - loss: 0.6625"
          ]
        },
        {
          "output_type": "stream",
          "name": "stderr",
          "text": [
            "WARNING:tensorflow:Early stopping conditioned on metric `val_loss` which is not available. Available metrics are: loss\n"
          ]
        },
        {
          "output_type": "stream",
          "name": "stdout",
          "text": [
            "\b\b\b\b\b\b\b\b\b\b\b\b\b\b\b\b\b\b\b\b\b\b\b\b\b\b\b\b\b\b\b\b\b\b\b\b\b\b\b\b\b\b\b\b\b\b\b\b\b\b\b\b\b\b\b\b\b\b\b\b\b\b\b\b\b\b\b\r4407/4407 [==============================] - 36s 8ms/step - loss: 0.6626 - lr: 9.0000e-04\n",
            "Epoch 5/5\n",
            "4407/4407 [==============================] - ETA: 0s - loss: 0.6308"
          ]
        },
        {
          "output_type": "stream",
          "name": "stderr",
          "text": [
            "WARNING:tensorflow:Early stopping conditioned on metric `val_loss` which is not available. Available metrics are: loss\n"
          ]
        },
        {
          "output_type": "stream",
          "name": "stdout",
          "text": [
            "4407/4407 [==============================] - 36s 8ms/step - loss: 0.6308 - lr: 8.1000e-04\n",
            "1102/1102 [==============================] - 2s 2ms/step\n",
            "SVD RMSE: 0.2882976970721813\n",
            "SVD MAE: 0.06955126239757954\n",
            "\n",
            "##############################################\n",
            "\n",
            "NCF RMSE: 0.8759149244755248\n",
            "NCF MAE: 0.6740387127726887\n"
          ]
        }
      ]
    },
    {
      "cell_type": "code",
      "source": [
        "\\"
      ],
      "metadata": {
        "id": "omFuzo12HGPc"
      },
      "execution_count": null,
      "outputs": []
    }
  ]
}