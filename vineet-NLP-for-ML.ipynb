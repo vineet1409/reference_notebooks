{
 "cells": [
  {
   "cell_type": "code",
   "execution_count": 1,
   "metadata": {},
   "outputs": [
    {
     "name": "stdout",
     "output_type": "stream",
     "text": [
      "Collecting nltk\n",
      "  Downloading nltk-3.8.1-py3-none-any.whl (1.5 MB)\n",
      "Requirement already satisfied: joblib in c:\\users\\lenovo\\appdata\\local\\programs\\python\\python39\\lib\\site-packages (from nltk) (1.1.0)\n",
      "Collecting regex>=2021.8.3\n",
      "  Downloading regex-2022.10.31-cp39-cp39-win_amd64.whl (267 kB)\n",
      "Requirement already satisfied: click in c:\\users\\lenovo\\appdata\\local\\programs\\python\\python39\\lib\\site-packages (from nltk) (8.1.3)\n",
      "Requirement already satisfied: tqdm in c:\\users\\lenovo\\appdata\\local\\programs\\python\\python39\\lib\\site-packages (from nltk) (4.64.1)\n",
      "Requirement already satisfied: colorama; platform_system == \"Windows\" in c:\\users\\lenovo\\appdata\\roaming\\python\\python39\\site-packages (from click->nltk) (0.4.5)\n",
      "Installing collected packages: regex, nltk\n",
      "Successfully installed nltk-3.8.1 regex-2022.10.31\n"
     ]
    },
    {
     "name": "stderr",
     "output_type": "stream",
     "text": [
      "WARNING: You are using pip version 20.2.3; however, version 22.3.1 is available.\n",
      "You should consider upgrading via the 'c:\\users\\lenovo\\appdata\\local\\programs\\python\\python39\\python.exe -m pip install --upgrade pip' command.\n"
     ]
    }
   ],
   "source": [
    "! pip install nltk"
   ]
  },
  {
   "cell_type": "code",
   "execution_count": 2,
   "metadata": {},
   "outputs": [],
   "source": [
    "paragraph = 'Narendra Damodardas Modi (Gujarati: [ˈnəɾendɾə dɑmodəɾˈdɑs ˈmodiː] (listen); born 17 September 1950)[b] is an Indian politician serving as the 14th and current Prime Minister of India since 2014. Modi was the Chief Minister of Gujarat from 2001 to 2014 and is the Member of Parliament from Varanasi. He is a member of the Bharatiya Janata Party (BJP) and of the Rashtriya Swayamsevak Sangh (RSS), a right-wing Hindu nationalist paramilitary volunteer organisation. He is the longest serving prime minister from outside the Indian National Congress.Modi was born and raised in Vadnagar in northeastern Gujarat, where he completed his secondary education. He was introduced to the RSS at age eight. He has reminisced about helping out after school at his father tea stall at the Vadnagar railway station. At age 18, Modi was married to Jashodaben Chimanlal Modi, whom he abandoned soon after. He first publicly acknowledged her as his wife more than four decades later when required to do so by Indian law, but has made no contact with her since. Modi has asserted he had travelled in northern India for two years after leaving his parental home, visiting a number of religious centres, but few details of his travels have emerged. Upon his return to Gujarat in 1971, he became a full-time worker for the RSS. After the state of emergency was declared by prime minister Indira Gandhi in 1975, Modi went into hiding. The RSS assigned him to the BJP in 1985 and he held several positions within the party hierarchy until 2001, rising to the rank of general secretary'"
   ]
  },
  {
   "cell_type": "code",
   "execution_count": 3,
   "metadata": {},
   "outputs": [
    {
     "data": {
      "text/plain": [
       "'Narendra Damodardas Modi (Gujarati: [ˈnəɾendɾə dɑmodəɾˈdɑs ˈmodiː] (listen); born 17 September 1950)[b] is an Indian politician serving as the 14th and current Prime Minister of India since 2014. Modi was the Chief Minister of Gujarat from 2001 to 2014 and is the Member of Parliament from Varanasi. He is a member of the Bharatiya Janata Party (BJP) and of the Rashtriya Swayamsevak Sangh (RSS), a right-wing Hindu nationalist paramilitary volunteer organisation. He is the longest serving prime minister from outside the Indian National Congress.Modi was born and raised in Vadnagar in northeastern Gujarat, where he completed his secondary education. He was introduced to the RSS at age eight. He has reminisced about helping out after school at his father tea stall at the Vadnagar railway station. At age 18, Modi was married to Jashodaben Chimanlal Modi, whom he abandoned soon after. He first publicly acknowledged her as his wife more than four decades later when required to do so by Indian law, but has made no contact with her since. Modi has asserted he had travelled in northern India for two years after leaving his parental home, visiting a number of religious centres, but few details of his travels have emerged. Upon his return to Gujarat in 1971, he became a full-time worker for the RSS. After the state of emergency was declared by prime minister Indira Gandhi in 1975, Modi went into hiding. The RSS assigned him to the BJP in 1985 and he held several positions within the party hierarchy until 2001, rising to the rank of general secretary'"
      ]
     },
     "execution_count": 3,
     "metadata": {},
     "output_type": "execute_result"
    }
   ],
   "source": [
    "paragraph"
   ]
  },
  {
   "cell_type": "code",
   "execution_count": 2,
   "metadata": {},
   "outputs": [],
   "source": [
    "import nltk\n",
    "from nltk.stem import PorterStemmer\n",
    "from nltk.corpus import stopwords"
   ]
  },
  {
   "cell_type": "code",
   "execution_count": 3,
   "metadata": {},
   "outputs": [
    {
     "name": "stderr",
     "output_type": "stream",
     "text": [
      "[nltk_data] Downloading package punkt to\n",
      "[nltk_data]     C:\\Users\\lenovo\\AppData\\Roaming\\nltk_data...\n",
      "[nltk_data]   Package punkt is already up-to-date!\n"
     ]
    },
    {
     "ename": "NameError",
     "evalue": "name 'paragraph' is not defined",
     "output_type": "error",
     "traceback": [
      "\u001b[1;31m---------------------------------------------------------------------------\u001b[0m",
      "\u001b[1;31mNameError\u001b[0m                                 Traceback (most recent call last)",
      "Cell \u001b[1;32mIn [3], line 3\u001b[0m\n\u001b[0;32m      1\u001b[0m \u001b[39m## Tokenizzation (Converts paragraph/sentences to words)\u001b[39;00m\n\u001b[0;32m      2\u001b[0m nltk\u001b[39m.\u001b[39mdownload(\u001b[39m'\u001b[39m\u001b[39mpunkt\u001b[39m\u001b[39m'\u001b[39m)\n\u001b[1;32m----> 3\u001b[0m sentences \u001b[39m=\u001b[39m nltk\u001b[39m.\u001b[39msent_tokenize(paragraph)\n",
      "\u001b[1;31mNameError\u001b[0m: name 'paragraph' is not defined"
     ]
    }
   ],
   "source": [
    "## Tokenizzation (Converts paragraph/sentences to words)\n",
    "nltk.download('punkt')\n",
    "sentences = nltk.sent_tokenize(paragraph)"
   ]
  },
  {
   "cell_type": "code",
   "execution_count": 7,
   "metadata": {},
   "outputs": [
    {
     "data": {
      "text/plain": [
       "['Narendra Damodardas Modi (Gujarati: [ˈnəɾendɾə dɑmodəɾˈdɑs ˈmodiː] (listen); born 17 September 1950)[b] is an Indian politician serving as the 14th and current Prime Minister of India since 2014.',\n",
       " 'Modi was the Chief Minister of Gujarat from 2001 to 2014 and is the Member of Parliament from Varanasi.',\n",
       " 'He is a member of the Bharatiya Janata Party (BJP) and of the Rashtriya Swayamsevak Sangh (RSS), a right-wing Hindu nationalist paramilitary volunteer organisation.',\n",
       " 'He is the longest serving prime minister from outside the Indian National Congress.Modi was born and raised in Vadnagar in northeastern Gujarat, where he completed his secondary education.',\n",
       " 'He was introduced to the RSS at age eight.',\n",
       " 'He has reminisced about helping out after school at his father tea stall at the Vadnagar railway station.',\n",
       " 'At age 18, Modi was married to Jashodaben Chimanlal Modi, whom he abandoned soon after.',\n",
       " 'He first publicly acknowledged her as his wife more than four decades later when required to do so by Indian law, but has made no contact with her since.',\n",
       " 'Modi has asserted he had travelled in northern India for two years after leaving his parental home, visiting a number of religious centres, but few details of his travels have emerged.',\n",
       " 'Upon his return to Gujarat in 1971, he became a full-time worker for the RSS.',\n",
       " 'After the state of emergency was declared by prime minister Indira Gandhi in 1975, Modi went into hiding.',\n",
       " 'The RSS assigned him to the BJP in 1985 and he held several positions within the party hierarchy until 2001, rising to the rank of general secretary']"
      ]
     },
     "execution_count": 7,
     "metadata": {},
     "output_type": "execute_result"
    }
   ],
   "source": [
    "sentences"
   ]
  },
  {
   "cell_type": "code",
   "execution_count": 8,
   "metadata": {},
   "outputs": [],
   "source": [
    "stemmer = PorterStemmer()"
   ]
  },
  {
   "cell_type": "code",
   "execution_count": 14,
   "metadata": {},
   "outputs": [],
   "source": [
    "from nltk.stem import WordNetLemmatizer"
   ]
  },
  {
   "cell_type": "code",
   "execution_count": null,
   "metadata": {},
   "outputs": [],
   "source": []
  },
  {
   "cell_type": "code",
   "execution_count": 15,
   "metadata": {},
   "outputs": [],
   "source": [
    "lemmatizer = WordNetLemmatizer()"
   ]
  },
  {
   "cell_type": "code",
   "execution_count": 16,
   "metadata": {},
   "outputs": [
    {
     "data": {
      "text/plain": [
       "'histori'"
      ]
     },
     "execution_count": 16,
     "metadata": {},
     "output_type": "execute_result"
    }
   ],
   "source": [
    "stemmer.stem('history')"
   ]
  },
  {
   "cell_type": "code",
   "execution_count": 17,
   "metadata": {},
   "outputs": [
    {
     "data": {
      "text/plain": [
       "'history'"
      ]
     },
     "execution_count": 17,
     "metadata": {},
     "output_type": "execute_result"
    }
   ],
   "source": [
    "lemmatizer.lemmatize('history')"
   ]
  },
  {
   "cell_type": "code",
   "execution_count": 18,
   "metadata": {},
   "outputs": [],
   "source": [
    "import re"
   ]
  },
  {
   "cell_type": "code",
   "execution_count": 19,
   "metadata": {},
   "outputs": [],
   "source": [
    "corpus = []\n",
    "for i in range(len(sentences)):\n",
    "    review = re.sub('[^a-zA-Z]', ' ',sentences[i])\n",
    "    review = review.lower()\n",
    "    corpus.append(review)"
   ]
  },
  {
   "cell_type": "code",
   "execution_count": 20,
   "metadata": {},
   "outputs": [
    {
     "data": {
      "text/plain": [
       "['narendra damodardas modi  gujarati    n  end   d mod   d s  modi    listen   born    september       b  is an indian politician serving as the   th and current prime minister of india since      ',\n",
       " 'modi was the chief minister of gujarat from      to      and is the member of parliament from varanasi ',\n",
       " 'he is a member of the bharatiya janata party  bjp  and of the rashtriya swayamsevak sangh  rss   a right wing hindu nationalist paramilitary volunteer organisation ',\n",
       " 'he is the longest serving prime minister from outside the indian national congress modi was born and raised in vadnagar in northeastern gujarat  where he completed his secondary education ',\n",
       " 'he was introduced to the rss at age eight ',\n",
       " 'he has reminisced about helping out after school at his father tea stall at the vadnagar railway station ',\n",
       " 'at age     modi was married to jashodaben chimanlal modi  whom he abandoned soon after ',\n",
       " 'he first publicly acknowledged her as his wife more than four decades later when required to do so by indian law  but has made no contact with her since ',\n",
       " 'modi has asserted he had travelled in northern india for two years after leaving his parental home  visiting a number of religious centres  but few details of his travels have emerged ',\n",
       " 'upon his return to gujarat in       he became a full time worker for the rss ',\n",
       " 'after the state of emergency was declared by prime minister indira gandhi in       modi went into hiding ',\n",
       " 'the rss assigned him to the bjp in      and he held several positions within the party hierarchy until       rising to the rank of general secretary']"
      ]
     },
     "execution_count": 20,
     "metadata": {},
     "output_type": "execute_result"
    }
   ],
   "source": [
    "corpus"
   ]
  },
  {
   "cell_type": "code",
   "execution_count": 21,
   "metadata": {},
   "outputs": [
    {
     "name": "stdout",
     "output_type": "stream",
     "text": [
      "narendra\n",
      "damodarda\n",
      "modi\n",
      "gujarati\n",
      "n\n",
      "end\n",
      "mod\n",
      "modi\n",
      "listen\n",
      "born\n",
      "septemb\n",
      "b\n",
      "indian\n",
      "politician\n",
      "serv\n",
      "th\n",
      "current\n",
      "prime\n",
      "minist\n",
      "india\n",
      "sinc\n",
      "modi\n",
      "chief\n",
      "minist\n",
      "gujarat\n",
      "member\n",
      "parliament\n",
      "varanasi\n",
      "member\n",
      "bharatiya\n",
      "janata\n",
      "parti\n",
      "bjp\n",
      "rashtriya\n",
      "swayamsevak\n",
      "sangh\n",
      "rss\n",
      "right\n",
      "wing\n",
      "hindu\n",
      "nationalist\n",
      "paramilitari\n",
      "volunt\n",
      "organis\n",
      "longest\n",
      "serv\n",
      "prime\n",
      "minist\n",
      "outsid\n",
      "indian\n",
      "nation\n",
      "congress\n",
      "modi\n",
      "born\n",
      "rais\n",
      "vadnagar\n",
      "northeastern\n",
      "gujarat\n",
      "complet\n",
      "secondari\n",
      "educ\n",
      "introduc\n",
      "rss\n",
      "age\n",
      "eight\n",
      "reminisc\n",
      "help\n",
      "school\n",
      "father\n",
      "tea\n",
      "stall\n",
      "vadnagar\n",
      "railway\n",
      "station\n",
      "age\n",
      "modi\n",
      "marri\n",
      "jashodaben\n",
      "chimanl\n",
      "modi\n",
      "abandon\n",
      "soon\n",
      "first\n",
      "publicli\n",
      "acknowledg\n",
      "wife\n",
      "four\n",
      "decad\n",
      "later\n",
      "requir\n",
      "indian\n",
      "law\n",
      "made\n",
      "contact\n",
      "sinc\n",
      "modi\n",
      "assert\n",
      "travel\n",
      "northern\n",
      "india\n",
      "two\n",
      "year\n",
      "leav\n",
      "parent\n",
      "home\n",
      "visit\n",
      "number\n",
      "religi\n",
      "centr\n",
      "detail\n",
      "travel\n",
      "emerg\n",
      "upon\n",
      "return\n",
      "gujarat\n",
      "becam\n",
      "full\n",
      "time\n",
      "worker\n",
      "rss\n",
      "state\n",
      "emerg\n",
      "declar\n",
      "prime\n",
      "minist\n",
      "indira\n",
      "gandhi\n",
      "modi\n",
      "went\n",
      "hide\n",
      "rss\n",
      "assign\n",
      "bjp\n",
      "held\n",
      "sever\n",
      "posit\n",
      "within\n",
      "parti\n",
      "hierarchi\n",
      "rise\n",
      "rank\n",
      "gener\n",
      "secretari\n"
     ]
    }
   ],
   "source": [
    "## Apply Stemming\n",
    "for i in corpus:\n",
    "    words = nltk.word_tokenize(i)\n",
    "    for word in words:\n",
    "        if word not in set(stopwords.words('english')):\n",
    "            print(stemmer.stem(word))"
   ]
  },
  {
   "cell_type": "code",
   "execution_count": 22,
   "metadata": {},
   "outputs": [
    {
     "name": "stdout",
     "output_type": "stream",
     "text": [
      "narendra\n",
      "damodardas\n",
      "modi\n",
      "gujarati\n",
      "n\n",
      "end\n",
      "mod\n",
      "modi\n",
      "listen\n",
      "born\n",
      "september\n",
      "b\n",
      "indian\n",
      "politician\n",
      "serving\n",
      "th\n",
      "current\n",
      "prime\n",
      "minister\n",
      "india\n",
      "since\n",
      "modi\n",
      "chief\n",
      "minister\n",
      "gujarat\n",
      "member\n",
      "parliament\n",
      "varanasi\n",
      "member\n",
      "bharatiya\n",
      "janata\n",
      "party\n",
      "bjp\n",
      "rashtriya\n",
      "swayamsevak\n",
      "sangh\n",
      "r\n",
      "right\n",
      "wing\n",
      "hindu\n",
      "nationalist\n",
      "paramilitary\n",
      "volunteer\n",
      "organisation\n",
      "longest\n",
      "serving\n",
      "prime\n",
      "minister\n",
      "outside\n",
      "indian\n",
      "national\n",
      "congress\n",
      "modi\n",
      "born\n",
      "raised\n",
      "vadnagar\n",
      "northeastern\n",
      "gujarat\n",
      "completed\n",
      "secondary\n",
      "education\n",
      "introduced\n",
      "r\n",
      "age\n",
      "eight\n",
      "reminisced\n",
      "helping\n",
      "school\n",
      "father\n",
      "tea\n",
      "stall\n",
      "vadnagar\n",
      "railway\n",
      "station\n",
      "age\n",
      "modi\n",
      "married\n",
      "jashodaben\n",
      "chimanlal\n",
      "modi\n",
      "abandoned\n",
      "soon\n",
      "first\n",
      "publicly\n",
      "acknowledged\n",
      "wife\n",
      "four\n",
      "decade\n",
      "later\n",
      "required\n",
      "indian\n",
      "law\n",
      "made\n",
      "contact\n",
      "since\n",
      "modi\n",
      "asserted\n",
      "travelled\n",
      "northern\n",
      "india\n",
      "two\n",
      "year\n",
      "leaving\n",
      "parental\n",
      "home\n",
      "visiting\n",
      "number\n",
      "religious\n",
      "centre\n",
      "detail\n",
      "travel\n",
      "emerged\n",
      "upon\n",
      "return\n",
      "gujarat\n",
      "became\n",
      "full\n",
      "time\n",
      "worker\n",
      "r\n",
      "state\n",
      "emergency\n",
      "declared\n",
      "prime\n",
      "minister\n",
      "indira\n",
      "gandhi\n",
      "modi\n",
      "went\n",
      "hiding\n",
      "r\n",
      "assigned\n",
      "bjp\n",
      "held\n",
      "several\n",
      "position\n",
      "within\n",
      "party\n",
      "hierarchy\n",
      "rising\n",
      "rank\n",
      "general\n",
      "secretary\n"
     ]
    }
   ],
   "source": [
    "## Apply lemmatization\n",
    "for i in corpus:\n",
    "    words = nltk.word_tokenize(i)\n",
    "    for word in words:\n",
    "        if word not in set(stopwords.words('english')):\n",
    "            print(lemmatizer.lemmatize(word))"
   ]
  },
  {
   "cell_type": "code",
   "execution_count": 35,
   "metadata": {},
   "outputs": [],
   "source": [
    "import re\n",
    "corpus = []\n",
    "\n",
    "for i in range(len(sentences)):\n",
    "    review = re.sub('[^a-zA-Z]',' ', sentences[i])\n",
    "    review = review.lower()\n",
    "\n",
    "    review  = review.split()\n",
    "    review = [lemmatizer.lemmatize(word) for word in review if not word in set(stopwords.words('english')) and len(word)>2]\n",
    "    review = ' '.join(review)\n",
    "    corpus.append(review)\n",
    "    \n"
   ]
  },
  {
   "cell_type": "code",
   "execution_count": 36,
   "metadata": {},
   "outputs": [],
   "source": [
    "from sklearn.feature_extraction.text import CountVectorizer"
   ]
  },
  {
   "cell_type": "code",
   "execution_count": 37,
   "metadata": {},
   "outputs": [],
   "source": [
    "cv= CountVectorizer(binary=True)\n",
    "X = cv.fit_transform(corpus)"
   ]
  },
  {
   "cell_type": "code",
   "execution_count": 38,
   "metadata": {},
   "outputs": [
    {
     "data": {
      "text/plain": [
       "{'narendra': 56,\n",
       " 'damodardas': 16,\n",
       " 'modi': 55,\n",
       " 'gujarati': 32,\n",
       " 'end': 24,\n",
       " 'mod': 54,\n",
       " 'listen': 48,\n",
       " 'born': 8,\n",
       " 'september': 86,\n",
       " 'indian': 40,\n",
       " 'politician': 68,\n",
       " 'serving': 87,\n",
       " 'th': 96,\n",
       " 'current': 15,\n",
       " 'prime': 70,\n",
       " 'minister': 53,\n",
       " 'india': 39,\n",
       " 'since': 89,\n",
       " 'chief': 10,\n",
       " 'gujarat': 31,\n",
       " 'member': 52,\n",
       " 'parliament': 66,\n",
       " 'varanasi': 103,\n",
       " 'bharatiya': 6,\n",
       " 'janata': 43,\n",
       " 'party': 67,\n",
       " 'bjp': 7,\n",
       " 'rashtriya': 75,\n",
       " 'swayamsevak': 94,\n",
       " 'sangh': 82,\n",
       " 'right': 80,\n",
       " 'wing': 108,\n",
       " 'hindu': 37,\n",
       " 'nationalist': 58,\n",
       " 'paramilitary': 64,\n",
       " 'volunteer': 105,\n",
       " 'organisation': 62,\n",
       " 'longest': 49,\n",
       " 'outside': 63,\n",
       " 'national': 57,\n",
       " 'congress': 13,\n",
       " 'raised': 73,\n",
       " 'vadnagar': 102,\n",
       " 'northeastern': 59,\n",
       " 'completed': 12,\n",
       " 'secondary': 84,\n",
       " 'education': 20,\n",
       " 'introduced': 42,\n",
       " 'age': 2,\n",
       " 'eight': 21,\n",
       " 'reminisced': 77,\n",
       " 'helping': 34,\n",
       " 'school': 83,\n",
       " 'father': 25,\n",
       " 'tea': 95,\n",
       " 'stall': 91,\n",
       " 'railway': 72,\n",
       " 'station': 93,\n",
       " 'married': 51,\n",
       " 'jashodaben': 44,\n",
       " 'chimanlal': 11,\n",
       " 'abandoned': 0,\n",
       " 'soon': 90,\n",
       " 'first': 26,\n",
       " 'publicly': 71,\n",
       " 'acknowledged': 1,\n",
       " 'wife': 107,\n",
       " 'four': 27,\n",
       " 'decade': 17,\n",
       " 'later': 45,\n",
       " 'required': 78,\n",
       " 'law': 46,\n",
       " 'made': 50,\n",
       " 'contact': 14,\n",
       " 'asserted': 3,\n",
       " 'travelled': 99,\n",
       " 'northern': 60,\n",
       " 'two': 100,\n",
       " 'year': 111,\n",
       " 'leaving': 47,\n",
       " 'parental': 65,\n",
       " 'home': 38,\n",
       " 'visiting': 104,\n",
       " 'number': 61,\n",
       " 'religious': 76,\n",
       " 'centre': 9,\n",
       " 'detail': 19,\n",
       " 'travel': 98,\n",
       " 'emerged': 22,\n",
       " 'upon': 101,\n",
       " 'return': 79,\n",
       " 'became': 5,\n",
       " 'full': 28,\n",
       " 'time': 97,\n",
       " 'worker': 110,\n",
       " 'state': 92,\n",
       " 'emergency': 23,\n",
       " 'declared': 18,\n",
       " 'indira': 41,\n",
       " 'gandhi': 29,\n",
       " 'went': 106,\n",
       " 'hiding': 35,\n",
       " 'assigned': 4,\n",
       " 'held': 33,\n",
       " 'several': 88,\n",
       " 'position': 69,\n",
       " 'within': 109,\n",
       " 'hierarchy': 36,\n",
       " 'rising': 81,\n",
       " 'rank': 74,\n",
       " 'general': 30,\n",
       " 'secretary': 85}"
      ]
     },
     "execution_count": 38,
     "metadata": {},
     "output_type": "execute_result"
    }
   ],
   "source": [
    "cv.vocabulary_"
   ]
  },
  {
   "cell_type": "code",
   "execution_count": 42,
   "metadata": {},
   "outputs": [
    {
     "data": {
      "text/plain": [
       "'narendra damodardas modi gujarati end mod modi listen born september indian politician serving current prime minister india since'"
      ]
     },
     "execution_count": 42,
     "metadata": {},
     "output_type": "execute_result"
    }
   ],
   "source": [
    "corp = corpus[0]\n",
    "corp = corp.split()\n",
    "\n",
    "corp = [word for word in corp if len(word)>2]\n",
    "corp = ' '.join(corp)\n",
    "corp"
   ]
  },
  {
   "cell_type": "code",
   "execution_count": 31,
   "metadata": {},
   "outputs": [
    {
     "data": {
      "text/plain": [
       "array([[0, 0, 0, 0, 0, 1, 1, 1, 0, 0, 0, 0, 0, 0, 1, 0, 0, 0, 0, 0, 0, 0,\n",
       "        0, 1, 1, 0, 0, 0, 0, 0, 0, 0, 0, 1, 0, 0, 0, 0, 0, 0, 0, 0, 0, 0,\n",
       "        1, 0, 0, 0, 0, 0, 0, 0, 0, 0, 0, 0, 0, 0, 0, 1, 1, 0, 0, 0, 1, 0,\n",
       "        0, 0, 0, 0, 1, 0, 0, 0, 0, 1, 1, 1, 0, 1, 0, 0, 0, 0, 0, 0, 1, 0,\n",
       "        0, 0, 0, 0, 0, 0, 1, 0, 1, 0, 0, 0, 0, 0, 0, 0, 0, 0, 0, 0, 0, 0,\n",
       "        0, 0, 0, 1, 1, 0, 1, 0, 0, 0, 0, 0, 0, 0, 1, 0, 1, 0, 0, 0, 0, 0,\n",
       "        0, 0, 0, 0, 0, 0, 0, 0, 0, 0, 0, 0, 0, 0, 0, 0, 0]], dtype=int64)"
      ]
     },
     "execution_count": 31,
     "metadata": {},
     "output_type": "execute_result"
    }
   ],
   "source": [
    "X[0].toarray()"
   ]
  },
  {
   "cell_type": "code",
   "execution_count": 43,
   "metadata": {},
   "outputs": [
    {
     "data": {
      "text/plain": [
       "['narendra damodardas modi gujarati n end mod modi listen born september b indian politician serving th current prime minister india since',\n",
       " 'modi chief minister gujarat member parliament varanasi',\n",
       " 'member bharatiya janata party bjp rashtriya swayamsevak sangh r right wing hindu nationalist paramilitary volunteer organisation',\n",
       " 'longest serving prime minister outside indian national congress modi born raised vadnagar northeastern gujarat completed secondary education',\n",
       " 'introduced r age eight',\n",
       " 'reminisced helping school father tea stall vadnagar railway station',\n",
       " 'age modi married jashodaben chimanlal modi abandoned soon',\n",
       " 'first publicly acknowledged wife four decade later required indian law made contact since',\n",
       " 'modi asserted travelled northern india two year leaving parental home visiting number religious centre detail travel emerged',\n",
       " 'upon return gujarat became full time worker r',\n",
       " 'state emergency declared prime minister indira gandhi modi went hiding',\n",
       " 'r assigned bjp held several position within party hierarchy rising rank general secretary']"
      ]
     },
     "execution_count": 43,
     "metadata": {},
     "output_type": "execute_result"
    }
   ],
   "source": [
    "corpus"
   ]
  },
  {
   "cell_type": "code",
   "execution_count": 49,
   "metadata": {},
   "outputs": [],
   "source": [
    "corpus_mod = []\n",
    "\n",
    "for sent in corpus:\n",
    "    review = sent.split()\n",
    "    review = [word for word in review if len(word)>2]\n",
    "    review = ' '.join(review)\n",
    "    corpus_mod.append(review)"
   ]
  },
  {
   "cell_type": "code",
   "execution_count": 51,
   "metadata": {},
   "outputs": [
    {
     "data": {
      "text/plain": [
       "'narendra damodardas modi gujarati end mod modi listen born september indian politician serving current prime minister india since'"
      ]
     },
     "execution_count": 51,
     "metadata": {},
     "output_type": "execute_result"
    }
   ],
   "source": [
    "corpus_mod[0]"
   ]
  },
  {
   "cell_type": "markdown",
   "metadata": {},
   "source": []
  },
  {
   "cell_type": "code",
   "execution_count": null,
   "metadata": {},
   "outputs": [],
   "source": []
  },
  {
   "attachments": {},
   "cell_type": "markdown",
   "metadata": {},
   "source": [
    "## Final Approach and code"
   ]
  },
  {
   "attachments": {},
   "cell_type": "markdown",
   "metadata": {},
   "source": [
    "### tokenize --> use regex to remove unnescessary objects like punctuations, new line ---> apply stopwords and lemmatize/apply_stemm --> use of CountVectorizer (BOW approach) to convert words/setences to vectors"
   ]
  },
  {
   "cell_type": "code",
   "execution_count": 10,
   "metadata": {},
   "outputs": [
    {
     "name": "stderr",
     "output_type": "stream",
     "text": [
      "[nltk_data] Downloading package punkt to\n",
      "[nltk_data]     C:\\Users\\lenovo\\AppData\\Roaming\\nltk_data...\n",
      "[nltk_data]   Package punkt is already up-to-date!\n"
     ]
    }
   ],
   "source": [
    "import nltk\n",
    "from nltk.stem import PorterStemmer\n",
    "from nltk.corpus import stopwords\n",
    "import re\n",
    "nltk.download('punkt')\n",
    "\n",
    "from sklearn.feature_extraction.text import CountVectorizer"
   ]
  },
  {
   "cell_type": "code",
   "execution_count": 11,
   "metadata": {},
   "outputs": [],
   "source": [
    "paragraph = 'Narendra Damodardas Modi (Gujarati: [ˈnəɾendɾə dɑmodəɾˈdɑs ˈmodiː] (listen); born 17 September 1950)[b] is an Indian politician serving as the 14th and current Prime Minister of India since 2014. Modi was the Chief Minister of Gujarat from 2001 to 2014 and is the Member of Parliament from Varanasi. He is a member of the Bharatiya Janata Party (BJP) and of the Rashtriya Swayamsevak Sangh (RSS), a right-wing Hindu nationalist paramilitary volunteer organisation. He is the longest serving prime minister from outside the Indian National Congress.Modi was born and raised in Vadnagar in northeastern Gujarat, where he completed his secondary education. He was introduced to the RSS at age eight. He has reminisced about helping out after school at his father tea stall at the Vadnagar railway station. At age 18, Modi was married to Jashodaben Chimanlal Modi, whom he abandoned soon after. He first publicly acknowledged her as his wife more than four decades later when required to do so by Indian law, but has made no contact with her since. Modi has asserted he had travelled in northern India for two years after leaving his parental home, visiting a number of religious centres, but few details of his travels have emerged. Upon his return to Gujarat in 1971, he became a full-time worker for the RSS. After the state of emergency was declared by prime minister Indira Gandhi in 1975, Modi went into hiding. The RSS assigned him to the BJP in 1985 and he held several positions within the party hierarchy until 2001, rising to the rank of general secretary'\n"
   ]
  },
  {
   "cell_type": "code",
   "execution_count": 13,
   "metadata": {},
   "outputs": [],
   "source": [
    "from nltk.stem import WordNetLemmatizer\n",
    "lemmatizer = WordNetLemmatizer()"
   ]
  },
  {
   "cell_type": "code",
   "execution_count": 14,
   "metadata": {},
   "outputs": [],
   "source": [
    "sentences = nltk.sent_tokenize(paragraph)\n",
    "\n",
    "corpus = []\n",
    "\n",
    "for i in range(len(sentences)):\n",
    "    review = re.sub('[^a-zA-Z]',' ', sentences[i])\n",
    "    review = review.lower()\n",
    "\n",
    "    review  = review.split()\n",
    "    review = [lemmatizer.lemmatize(word) for word in review if not word in set(stopwords.words('english')) and len(word)>2]\n",
    "    review = ' '.join(review)\n",
    "    corpus.append(review)\n",
    "\n",
    "cv= CountVectorizer(binary=True, ngram_range=(2,3))\n",
    "X = cv.fit_transform(corpus)"
   ]
  },
  {
   "cell_type": "code",
   "execution_count": 15,
   "metadata": {},
   "outputs": [
    {
     "data": {
      "text/plain": [
       "{'narendra damodardas': 137,\n",
       " 'damodardas modi': 35,\n",
       " 'modi gujarati': 129,\n",
       " 'gujarati end': 64,\n",
       " 'end mod': 45,\n",
       " 'mod modi': 119,\n",
       " 'modi listen': 131,\n",
       " 'listen born': 99,\n",
       " 'born september': 20,\n",
       " 'september indian': 194,\n",
       " 'indian politician': 83,\n",
       " 'politician serving': 160,\n",
       " 'serving current': 196,\n",
       " 'current prime': 33,\n",
       " 'prime minister': 164,\n",
       " 'minister india': 113,\n",
       " 'india since': 76,\n",
       " 'narendra damodardas modi': 138,\n",
       " 'damodardas modi gujarati': 36,\n",
       " 'modi gujarati end': 130,\n",
       " 'gujarati end mod': 65,\n",
       " 'end mod modi': 46,\n",
       " 'mod modi listen': 120,\n",
       " 'modi listen born': 132,\n",
       " 'listen born september': 100,\n",
       " 'born september indian': 21,\n",
       " 'september indian politician': 195,\n",
       " 'indian politician serving': 84,\n",
       " 'politician serving current': 161,\n",
       " 'serving current prime': 197,\n",
       " 'current prime minister': 34,\n",
       " 'prime minister india': 165,\n",
       " 'minister india since': 114,\n",
       " 'modi chief': 127,\n",
       " 'chief minister': 24,\n",
       " 'minister gujarat': 111,\n",
       " 'gujarat member': 62,\n",
       " 'member parliament': 109,\n",
       " 'parliament varanasi': 155,\n",
       " 'modi chief minister': 128,\n",
       " 'chief minister gujarat': 25,\n",
       " 'minister gujarat member': 112,\n",
       " 'gujarat member parliament': 63,\n",
       " 'member parliament varanasi': 110,\n",
       " 'member bharatiya': 107,\n",
       " 'bharatiya janata': 12,\n",
       " 'janata party': 89,\n",
       " 'party bjp': 156,\n",
       " 'bjp rashtriya': 16,\n",
       " 'rashtriya swayamsevak': 175,\n",
       " 'swayamsevak sangh': 206,\n",
       " 'sangh right': 189,\n",
       " 'right wing': 185,\n",
       " 'wing hindu': 228,\n",
       " 'hindu nationalist': 72,\n",
       " 'nationalist paramilitary': 141,\n",
       " 'paramilitary volunteer': 151,\n",
       " 'volunteer organisation': 224,\n",
       " 'member bharatiya janata': 108,\n",
       " 'bharatiya janata party': 13,\n",
       " 'janata party bjp': 90,\n",
       " 'party bjp rashtriya': 157,\n",
       " 'bjp rashtriya swayamsevak': 17,\n",
       " 'rashtriya swayamsevak sangh': 176,\n",
       " 'swayamsevak sangh right': 207,\n",
       " 'sangh right wing': 190,\n",
       " 'right wing hindu': 186,\n",
       " 'wing hindu nationalist': 229,\n",
       " 'hindu nationalist paramilitary': 73,\n",
       " 'nationalist paramilitary volunteer': 142,\n",
       " 'paramilitary volunteer organisation': 152,\n",
       " 'longest serving': 101,\n",
       " 'serving prime': 198,\n",
       " 'minister outside': 117,\n",
       " 'outside indian': 149,\n",
       " 'indian national': 81,\n",
       " 'national congress': 139,\n",
       " 'congress modi': 30,\n",
       " 'modi born': 125,\n",
       " 'born raised': 18,\n",
       " 'raised vadnagar': 171,\n",
       " 'vadnagar northeastern': 218,\n",
       " 'northeastern gujarat': 143,\n",
       " 'gujarat completed': 60,\n",
       " 'completed secondary': 28,\n",
       " 'secondary education': 193,\n",
       " 'longest serving prime': 102,\n",
       " 'serving prime minister': 199,\n",
       " 'prime minister outside': 167,\n",
       " 'minister outside indian': 118,\n",
       " 'outside indian national': 150,\n",
       " 'indian national congress': 82,\n",
       " 'national congress modi': 140,\n",
       " 'congress modi born': 31,\n",
       " 'modi born raised': 126,\n",
       " 'born raised vadnagar': 19,\n",
       " 'raised vadnagar northeastern': 172,\n",
       " 'vadnagar northeastern gujarat': 219,\n",
       " 'northeastern gujarat completed': 144,\n",
       " 'gujarat completed secondary': 61,\n",
       " 'completed secondary education': 29,\n",
       " 'introduced age': 87,\n",
       " 'age eight': 3,\n",
       " 'introduced age eight': 88,\n",
       " 'reminisced helping': 179,\n",
       " 'helping school': 68,\n",
       " 'school father': 191,\n",
       " 'father tea': 47,\n",
       " 'tea stall': 208,\n",
       " 'stall vadnagar': 202,\n",
       " 'vadnagar railway': 220,\n",
       " 'railway station': 170,\n",
       " 'reminisced helping school': 180,\n",
       " 'helping school father': 69,\n",
       " 'school father tea': 192,\n",
       " 'father tea stall': 48,\n",
       " 'tea stall vadnagar': 209,\n",
       " 'stall vadnagar railway': 203,\n",
       " 'vadnagar railway station': 221,\n",
       " 'age modi': 4,\n",
       " 'modi married': 133,\n",
       " 'married jashodaben': 105,\n",
       " 'jashodaben chimanlal': 91,\n",
       " 'chimanlal modi': 26,\n",
       " 'modi abandoned': 121,\n",
       " 'abandoned soon': 0,\n",
       " 'age modi married': 5,\n",
       " 'modi married jashodaben': 134,\n",
       " 'married jashodaben chimanlal': 106,\n",
       " 'jashodaben chimanlal modi': 92,\n",
       " 'chimanlal modi abandoned': 27,\n",
       " 'modi abandoned soon': 122,\n",
       " 'first publicly': 49,\n",
       " 'publicly acknowledged': 168,\n",
       " 'acknowledged wife': 1,\n",
       " 'wife four': 226,\n",
       " 'four decade': 51,\n",
       " 'decade later': 37,\n",
       " 'later required': 93,\n",
       " 'required indian': 181,\n",
       " 'indian law': 79,\n",
       " 'law made': 95,\n",
       " 'made contact': 103,\n",
       " 'contact since': 32,\n",
       " 'first publicly acknowledged': 50,\n",
       " 'publicly acknowledged wife': 169,\n",
       " 'acknowledged wife four': 2,\n",
       " 'wife four decade': 227,\n",
       " 'four decade later': 52,\n",
       " 'decade later required': 38,\n",
       " 'later required indian': 94,\n",
       " 'required indian law': 182,\n",
       " 'indian law made': 80,\n",
       " 'law made contact': 96,\n",
       " 'made contact since': 104,\n",
       " 'modi asserted': 123,\n",
       " 'asserted travelled': 6,\n",
       " 'travelled northern': 212,\n",
       " 'northern india': 145,\n",
       " 'india two': 77,\n",
       " 'two year': 214,\n",
       " 'year leaving': 232,\n",
       " 'leaving parental': 97,\n",
       " 'parental home': 153,\n",
       " 'home visiting': 74,\n",
       " 'visiting number': 222,\n",
       " 'number religious': 147,\n",
       " 'religious centre': 177,\n",
       " 'centre detail': 22,\n",
       " 'detail travel': 41,\n",
       " 'travel emerged': 211,\n",
       " 'modi asserted travelled': 124,\n",
       " 'asserted travelled northern': 7,\n",
       " 'travelled northern india': 213,\n",
       " 'northern india two': 146,\n",
       " 'india two year': 78,\n",
       " 'two year leaving': 215,\n",
       " 'year leaving parental': 233,\n",
       " 'leaving parental home': 98,\n",
       " 'parental home visiting': 154,\n",
       " 'home visiting number': 75,\n",
       " 'visiting number religious': 223,\n",
       " 'number religious centre': 148,\n",
       " 'religious centre detail': 178,\n",
       " 'centre detail travel': 23,\n",
       " 'detail travel emerged': 42,\n",
       " 'upon return': 216,\n",
       " 'return gujarat': 183,\n",
       " 'gujarat became': 58,\n",
       " 'became full': 10,\n",
       " 'full time': 53,\n",
       " 'time worker': 210,\n",
       " 'upon return gujarat': 217,\n",
       " 'return gujarat became': 184,\n",
       " 'gujarat became full': 59,\n",
       " 'became full time': 11,\n",
       " 'full time worker': 54,\n",
       " 'state emergency': 204,\n",
       " 'emergency declared': 43,\n",
       " 'declared prime': 39,\n",
       " 'minister indira': 115,\n",
       " 'indira gandhi': 85,\n",
       " 'gandhi modi': 55,\n",
       " 'modi went': 135,\n",
       " 'went hiding': 225,\n",
       " 'state emergency declared': 205,\n",
       " 'emergency declared prime': 44,\n",
       " 'declared prime minister': 40,\n",
       " 'prime minister indira': 166,\n",
       " 'minister indira gandhi': 116,\n",
       " 'indira gandhi modi': 86,\n",
       " 'gandhi modi went': 56,\n",
       " 'modi went hiding': 136,\n",
       " 'assigned bjp': 8,\n",
       " 'bjp held': 14,\n",
       " 'held several': 66,\n",
       " 'several position': 200,\n",
       " 'position within': 162,\n",
       " 'within party': 230,\n",
       " 'party hierarchy': 158,\n",
       " 'hierarchy rising': 70,\n",
       " 'rising rank': 187,\n",
       " 'rank general': 173,\n",
       " 'general secretary': 57,\n",
       " 'assigned bjp held': 9,\n",
       " 'bjp held several': 15,\n",
       " 'held several position': 67,\n",
       " 'several position within': 201,\n",
       " 'position within party': 163,\n",
       " 'within party hierarchy': 231,\n",
       " 'party hierarchy rising': 159,\n",
       " 'hierarchy rising rank': 71,\n",
       " 'rising rank general': 188,\n",
       " 'rank general secretary': 174}"
      ]
     },
     "execution_count": 15,
     "metadata": {},
     "output_type": "execute_result"
    }
   ],
   "source": [
    "cv.vocabulary_"
   ]
  },
  {
   "cell_type": "code",
   "execution_count": 16,
   "metadata": {},
   "outputs": [
    {
     "data": {
      "text/plain": [
       "array([[0, 0, 0, 0, 0, 0, 0, 0, 0, 0, 0, 0, 0, 0, 0, 0, 0, 0, 0, 0, 1, 1,\n",
       "        0, 0, 0, 0, 0, 0, 0, 0, 0, 0, 0, 1, 1, 1, 1, 0, 0, 0, 0, 0, 0, 0,\n",
       "        0, 1, 1, 0, 0, 0, 0, 0, 0, 0, 0, 0, 0, 0, 0, 0, 0, 0, 0, 0, 1, 1,\n",
       "        0, 0, 0, 0, 0, 0, 0, 0, 0, 0, 1, 0, 0, 0, 0, 0, 0, 1, 1, 0, 0, 0,\n",
       "        0, 0, 0, 0, 0, 0, 0, 0, 0, 0, 0, 1, 1, 0, 0, 0, 0, 0, 0, 0, 0, 0,\n",
       "        0, 0, 0, 1, 1, 0, 0, 0, 0, 1, 1, 0, 0, 0, 0, 0, 0, 0, 0, 1, 1, 1,\n",
       "        1, 0, 0, 0, 0, 1, 1, 0, 0, 0, 0, 0, 0, 0, 0, 0, 0, 0, 0, 0, 0, 0,\n",
       "        0, 0, 0, 0, 0, 0, 1, 1, 0, 0, 1, 1, 0, 0, 0, 0, 0, 0, 0, 0, 0, 0,\n",
       "        0, 0, 0, 0, 0, 0, 0, 0, 0, 0, 0, 0, 0, 0, 0, 0, 0, 0, 1, 1, 1, 1,\n",
       "        0, 0, 0, 0, 0, 0, 0, 0, 0, 0, 0, 0, 0, 0, 0, 0, 0, 0, 0, 0, 0, 0,\n",
       "        0, 0, 0, 0, 0, 0, 0, 0, 0, 0, 0, 0, 0, 0]], dtype=int64)"
      ]
     },
     "execution_count": 16,
     "metadata": {},
     "output_type": "execute_result"
    }
   ],
   "source": [
    "X[0].toarray()"
   ]
  },
  {
   "cell_type": "code",
   "execution_count": 17,
   "metadata": {},
   "outputs": [
    {
     "data": {
      "text/plain": [
       "'narendra damodardas modi gujarati end mod modi listen born september indian politician serving current prime minister india since'"
      ]
     },
     "execution_count": 17,
     "metadata": {},
     "output_type": "execute_result"
    }
   ],
   "source": [
    "corpus[0]"
   ]
  },
  {
   "cell_type": "code",
   "execution_count": null,
   "metadata": {},
   "outputs": [],
   "source": []
  },
  {
   "attachments": {},
   "cell_type": "markdown",
   "metadata": {},
   "source": [
    "### CountVectorizer simply counts the number of times a word appears in a document (using a bag-of-words approach), while TF-IDF Vectorizer takes into account not only how many times a word appears in a document but also how important that word is to the whole corpus."
   ]
  },
  {
   "cell_type": "code",
   "execution_count": 18,
   "metadata": {},
   "outputs": [],
   "source": [
    "from sklearn.feature_extraction.text import TfidfVectorizer"
   ]
  },
  {
   "cell_type": "code",
   "execution_count": 30,
   "metadata": {},
   "outputs": [],
   "source": [
    "cv = TfidfVectorizer(max_features=20)\n",
    "X = cv.fit_transform(corpus)"
   ]
  },
  {
   "cell_type": "code",
   "execution_count": 31,
   "metadata": {},
   "outputs": [
    {
     "data": {
      "text/plain": [
       "array([[0.        , 0.        , 0.35549098, 0.        , 0.35549098,\n",
       "        0.31402529, 0.        , 0.281862  , 0.46672764, 0.        ,\n",
       "        0.        , 0.31402529, 0.        , 0.        , 0.        ,\n",
       "        0.        , 0.        , 0.35549098, 0.35549098, 0.        ]])"
      ]
     },
     "execution_count": 31,
     "metadata": {},
     "output_type": "execute_result"
    }
   ],
   "source": [
    "X[0].toarray()"
   ]
  },
  {
   "cell_type": "code",
   "execution_count": 32,
   "metadata": {},
   "outputs": [
    {
     "data": {
      "text/plain": [
       "'narendra damodardas modi gujarati end mod modi listen born september indian politician serving current prime minister india since'"
      ]
     },
     "execution_count": 32,
     "metadata": {},
     "output_type": "execute_result"
    }
   ],
   "source": [
    "corpus[0]"
   ]
  },
  {
   "cell_type": "code",
   "execution_count": 33,
   "metadata": {},
   "outputs": [
    {
     "data": {
      "text/plain": [
       "{'modi': 8,\n",
       " 'born': 2,\n",
       " 'indian': 5,\n",
       " 'serving': 17,\n",
       " 'prime': 11,\n",
       " 'minister': 7,\n",
       " 'india': 4,\n",
       " 'since': 18,\n",
       " 'gujarat': 3,\n",
       " 'member': 6,\n",
       " 'party': 10,\n",
       " 'bjp': 1,\n",
       " 'rashtriya': 12,\n",
       " 'organisation': 9,\n",
       " 'vadnagar': 19,\n",
       " 'age': 0,\n",
       " 'reminisced': 14,\n",
       " 'required': 15,\n",
       " 'religious': 13,\n",
       " 'return': 16}"
      ]
     },
     "execution_count": 33,
     "metadata": {},
     "output_type": "execute_result"
    }
   ],
   "source": [
    "cv.vocabulary_"
   ]
  },
  {
   "cell_type": "code",
   "execution_count": null,
   "metadata": {},
   "outputs": [],
   "source": []
  }
 ],
 "metadata": {
  "kernelspec": {
   "display_name": "Python 3",
   "language": "python",
   "name": "python3"
  },
  "language_info": {
   "codemirror_mode": {
    "name": "ipython",
    "version": 3
   },
   "file_extension": ".py",
   "mimetype": "text/x-python",
   "name": "python",
   "nbconvert_exporter": "python",
   "pygments_lexer": "ipython3",
   "version": "3.9.0 (tags/v3.9.0:9cf6752, Oct  5 2020, 15:34:40) [MSC v.1927 64 bit (AMD64)]"
  },
  "orig_nbformat": 4,
  "vscode": {
   "interpreter": {
    "hash": "8f939dc046ae95b61db57b1ddfb635e5199eac9f7bf30422bfd106b8f44dc254"
   }
  }
 },
 "nbformat": 4,
 "nbformat_minor": 2
}
