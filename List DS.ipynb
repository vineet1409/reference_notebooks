{
 "cells": [
  {
   "cell_type": "code",
   "execution_count": 9,
   "id": "bf096adb",
   "metadata": {},
   "outputs": [],
   "source": [
    "def right_rotate_by_k(k,lst=[1,2,3,4,5,6,7,8,9]):\n",
    "    n = len(lst)\n",
    "    res = []\n",
    "    if k == 0:\n",
    "        return lst\n",
    "    \n",
    "    for idx in range(n):\n",
    "        res.append(lst[(n-k+idx)])\n",
    "        if len(res) == k:\n",
    "            break\n",
    "    for i in range(n-k):\n",
    "        res.append(lst[i])\n",
    "        \n",
    "    return res"
   ]
  },
  {
   "cell_type": "code",
   "execution_count": 15,
   "id": "a62b8559",
   "metadata": {},
   "outputs": [
    {
     "data": {
      "text/plain": [
       "[8, 9, 1, 2, 3, 4, 5, 6, 7]"
      ]
     },
     "execution_count": 15,
     "metadata": {},
     "output_type": "execute_result"
    }
   ],
   "source": [
    "right_rotate_by_k(2)"
   ]
  },
  {
   "cell_type": "code",
   "execution_count": 16,
   "id": "61452b13",
   "metadata": {},
   "outputs": [],
   "source": [
    "def left_rotate_by_k(k,lst=[1,2,3,4,5,6,7,8,9]):\n",
    "    n = len(lst)\n",
    "    res = []\n",
    "    \n",
    "    for i in range(n-k):\n",
    "        res.append(lst[i+k])\n",
    "    for j in range(k):\n",
    "        res.append(lst[j])\n",
    "        \n",
    "    return res"
   ]
  },
  {
   "cell_type": "code",
   "execution_count": 18,
   "id": "7bc49fcf",
   "metadata": {},
   "outputs": [
    {
     "data": {
      "text/plain": [
       "[1, 2, 3, 4, 5, 6, 7, 8, 9]"
      ]
     },
     "execution_count": 18,
     "metadata": {},
     "output_type": "execute_result"
    }
   ],
   "source": [
    "left_rotate_by_k(0)"
   ]
  },
  {
   "cell_type": "code",
   "execution_count": 42,
   "id": "88089529",
   "metadata": {},
   "outputs": [],
   "source": [
    "def max_diff(lst): # naive approach\n",
    "    n = len(lst)\n",
    "    max_diff = 0\n",
    "    d = {}\n",
    "    \n",
    "    for i in range(n-1,-1,-1):\n",
    "        for j in range(n-2,-1,-1):\n",
    "            diff = lst[i] - lst[j]\n",
    "            if max_diff < diff:\n",
    "                max_diff = diff\n",
    "                d[max_diff] = (i,j)\n",
    "                \n",
    "    return d[max_diff]\n",
    "        \n",
    "        "
   ]
  },
  {
   "cell_type": "code",
   "execution_count": 45,
   "id": "f477a3cb",
   "metadata": {},
   "outputs": [
    {
     "data": {
      "text/plain": [
       "(0, 2)"
      ]
     },
     "execution_count": 45,
     "metadata": {},
     "output_type": "execute_result"
    }
   ],
   "source": [
    "lst = [30,10,8,2]\n",
    "d = max_diff(lst)\n",
    "d"
   ]
  },
  {
   "cell_type": "code",
   "execution_count": 48,
   "id": "314c1e44",
   "metadata": {},
   "outputs": [],
   "source": [
    "def max_diff(lst): # optimized\n",
    "    n = len(lst)\n",
    "    res = lst[1]-lst[0]\n",
    "    minval = lst[0]\n",
    "    for j in range(1,n):\n",
    "        res = max(res,lst[j]-minval)\n",
    "        minval = min(minval,lst[j])\n",
    "        \n",
    "    return res"
   ]
  },
  {
   "cell_type": "code",
   "execution_count": 49,
   "id": "0b8d8f0b",
   "metadata": {},
   "outputs": [
    {
     "data": {
      "text/plain": [
       "-2"
      ]
     },
     "execution_count": 49,
     "metadata": {},
     "output_type": "execute_result"
    }
   ],
   "source": [
    "lst = [30,10,8,2]\n",
    "d = max_diff(lst)\n",
    "d"
   ]
  },
  {
   "cell_type": "markdown",
   "id": "ca3f8b13",
   "metadata": {},
   "source": [
    "##### so in the above problem of max_distance we are keeping a track of minvalue everytime we are iterating through loop, and we subtract arr[j] wth minvalue everytime to get max distance and compare with previous result and then take the max of them. "
   ]
  },
  {
   "cell_type": "markdown",
   "id": "ffe53288",
   "metadata": {},
   "source": [
    "##### Time complexity for above problem is O(n)"
   ]
  },
  {
   "cell_type": "code",
   "execution_count": 98,
   "id": "8da043c4",
   "metadata": {},
   "outputs": [],
   "source": [
    "def stock_buy_sell_chk(lst):\n",
    "    n = len(lst)\n",
    "    max_profit_sum = 0 \n",
    "    \n",
    "    for i in range(1,n):\n",
    "        if lst[i]>lst[i-1]:\n",
    "            max_profit_sum+=(lst[i]-lst[i-1])\n",
    "        else:\n",
    "            continue\n",
    "            \n",
    "    return max_profit_sum"
   ]
  },
  {
   "cell_type": "code",
   "execution_count": 101,
   "id": "b1b6b053",
   "metadata": {},
   "outputs": [
    {
     "name": "stdout",
     "output_type": "stream",
     "text": [
      "13\n",
      "0\n"
     ]
    }
   ],
   "source": [
    "print(stock_buy_sell_chk([1,5,3,8,12]))\n",
    "print(stock_buy_sell_chk([30,20,10]))"
   ]
  },
  {
   "cell_type": "code",
   "execution_count": 110,
   "id": "49d62587",
   "metadata": {},
   "outputs": [],
   "source": [
    "def trapping_rain_water(a):\n",
    "    n = len(a)\n",
    "    max_start_store = a[0]\n",
    "    max_store_sum = 0\n",
    "    idx=1\n",
    "    \n",
    "    while (idx<n):\n",
    "        if (abs(a[idx] - a[idx-1]))<=max_start_store:\n",
    "            max_store_sum+=abs(max_store_sum-a[idx])\n",
    "        else:\n",
    "            continue\n",
    "        idx+=1\n",
    "   \n",
    "    \n",
    "    print(max_store_sum)        "
   ]
  },
  {
   "cell_type": "code",
   "execution_count": 111,
   "id": "c3ffd948",
   "metadata": {},
   "outputs": [
    {
     "name": "stdout",
     "output_type": "stream",
     "text": [
      "9\n"
     ]
    }
   ],
   "source": []
  },
  {
   "cell_type": "code",
   "execution_count": 112,
   "id": "c3655206",
   "metadata": {},
   "outputs": [],
   "source": [
    "def trap_rain_water(heights):\n",
    "    # Check for edge cases\n",
    "    if not heights:\n",
    "        return 0\n",
    "\n",
    "    n = len(heights)\n",
    "    left_max = [0] * n\n",
    "    right_max = [0] * n\n",
    "    water = 0\n",
    "\n",
    "    # Fill left_max and right_max arrays\n",
    "    left_max[0] = heights[0]\n",
    "    for i in range(1, n):\n",
    "        left_max[i] = max(left_max[i-1], heights[i])\n",
    "\n",
    "    right_max[n-1] = heights[n-1]\n",
    "    for i in range(n-2, -1, -1):\n",
    "        right_max[i] = max(right_max[i+1], heights[i])\n",
    "\n",
    "    # Calculate water trapped\n",
    "    for i in range(n):\n",
    "        water += min(left_max[i], right_max[i]) - heights[i]\n",
    "\n",
    "    return water\n"
   ]
  },
  {
   "cell_type": "code",
   "execution_count": 114,
   "id": "93340ff5",
   "metadata": {},
   "outputs": [
    {
     "data": {
      "text/plain": [
       "6"
      ]
     },
     "execution_count": 114,
     "metadata": {},
     "output_type": "execute_result"
    }
   ],
   "source": [
    "trap_rain_water([5,0,6,2,3])"
   ]
  },
  {
   "cell_type": "markdown",
   "id": "1153658c",
   "metadata": {},
   "source": [
    "##### This function takes in a list of integers heights representing the heights of the buildings, and returns an integer representing the total amount of water that can be trapped. \n",
    "##### The solution first initializes two arrays left_max and right_max to keep track of the maximum height of a building on the left and right sides of each building, respectively. It then fills these arrays by iterating through the list of heights and updating the maximum value at each index. \n",
    "##### Next, it calculates the amount of water that can be trapped at each index by taking the minimum of the maximum heights on the left and right sides, and subtracting the height of the building at that index. The total amount of water trapped is the sum of all of these values."
   ]
  },
  {
   "cell_type": "code",
   "execution_count": 150,
   "id": "70d09e0d",
   "metadata": {},
   "outputs": [],
   "source": [
    "def max_subarray_sum(arr):\n",
    "    if not arr:\n",
    "        return 0\n",
    "    \n",
    "    max_sum = arr[0]\n",
    "    current_sum = 0\n",
    "    for num in arr:\n",
    "        current_sum += num\n",
    "        max_sum = max(max_sum, current_sum)\n",
    "        if current_sum < 0:\n",
    "            current_sum = 0\n",
    "    return max_sum"
   ]
  },
  {
   "cell_type": "code",
   "execution_count": 151,
   "id": "faceb355",
   "metadata": {},
   "outputs": [
    {
     "data": {
      "text/plain": [
       "4"
      ]
     },
     "execution_count": 151,
     "metadata": {},
     "output_type": "execute_result"
    }
   ],
   "source": [
    "max_subarray_sum([-5,1,-2,3,-1,2,-2])"
   ]
  },
  {
   "cell_type": "markdown",
   "id": "fffbf271",
   "metadata": {},
   "source": [
    "##### This function takes in an array arr and returns the maximum sum of a contiguous subarray.\n",
    "##### The solution works by iterating through the array and keeping track of the maximum sum and the current sum as it goes. The current sum is updated by adding the current element to the current sum, and the maximum sum is updated by taking the maximum of the current sum and the maximum sum. If the current sum becomes negative, it is reset to 0, as a negative current sum cannot contribute to the maximum sum."
   ]
  },
  {
   "cell_type": "code",
   "execution_count": 158,
   "id": "4a268181",
   "metadata": {},
   "outputs": [],
   "source": [
    "def longest_even_odd_subarray(lst):\n",
    "    n = len(lst)\n",
    "    res = 1\n",
    "    \n",
    "    if not lst:\n",
    "        return -1\n",
    "    \n",
    "    for i in range(n):\n",
    "        count = 1\n",
    "        for j in range(i+1,n):\n",
    "            if (lst[j-1]%2 == 0 and lst[j]%2!=0) or \\\n",
    "            (lst[j-1]%2!=0 and lst[j]%2 == 0):\n",
    "                count+=1\n",
    "            else: break\n",
    "        res = max(res,count)\n",
    "                    \n",
    "    return res  "
   ]
  },
  {
   "cell_type": "code",
   "execution_count": 159,
   "id": "373b5f2d",
   "metadata": {},
   "outputs": [
    {
     "data": {
      "text/plain": [
       "6"
      ]
     },
     "execution_count": 159,
     "metadata": {},
     "output_type": "execute_result"
    }
   ],
   "source": [
    "longest_even_odd_subarray([10,12,14,7,8])"
   ]
  },
  {
   "cell_type": "code",
   "execution_count": null,
   "id": "21ed08dd",
   "metadata": {},
   "outputs": [],
   "source": []
  }
 ],
 "metadata": {
  "kernelspec": {
   "display_name": "Python 3 (ipykernel)",
   "language": "python",
   "name": "python3"
  },
  "language_info": {
   "codemirror_mode": {
    "name": "ipython",
    "version": 3
   },
   "file_extension": ".py",
   "mimetype": "text/x-python",
   "name": "python",
   "nbconvert_exporter": "python",
   "pygments_lexer": "ipython3",
   "version": "3.9.12"
  }
 },
 "nbformat": 4,
 "nbformat_minor": 5
}
